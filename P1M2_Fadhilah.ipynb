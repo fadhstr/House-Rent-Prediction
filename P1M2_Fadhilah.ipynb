{
 "cells": [
  {
   "cell_type": "markdown",
   "metadata": {},
   "source": [
    "# Perkenalan \n",
    "Nama : Fadhilah  \n",
    "Batch : HCK-013  \n",
    "\n",
    "**Objective** : Projek ini dibuat untuk mengetahui konsep Machine learning dengan model Regression menggunakan KNN Regression, SVR, Decision Tree Regression, Random Forest Regression, dan XGBoost Regression untuk memprediksi fitur - fitur apa saja yang mempengaruhi target dalam peningkatkan harga sewa rumah/apartment/rusun dengan memilih salah satu model regression, kemudian melakukan hyperparameter tuning pada model regression."
   ]
  },
  {
   "cell_type": "markdown",
   "metadata": {},
   "source": [
    "## Import Libraries"
   ]
  },
  {
   "cell_type": "code",
   "execution_count": 2,
   "metadata": {},
   "outputs": [],
   "source": [
    "# Libraries for Data Manipulation\n",
    "import pandas as pd\n",
    "import numpy as np\n",
    "\n",
    "# Libraries for Visualization\n",
    "import matplotlib.pyplot as plt\n",
    "import seaborn as sns\n",
    "\n",
    "# Libraries for Modeling\n",
    "from sklearn.model_selection import train_test_split, GridSearchCV, cross_val_score\n",
    "from sklearn.preprocessing import OneHotEncoder, StandardScaler\n",
    "from sklearn.neighbors import KNeighborsRegressor\n",
    "from sklearn.svm import SVR\n",
    "from sklearn.metrics import  mean_squared_error, r2_score\n",
    "from sklearn.compose import ColumnTransformer\n",
    "from sklearn.pipeline import Pipeline\n",
    "from sklearn.ensemble import RandomForestRegressor\n",
    "from sklearn.tree import DecisionTreeRegressor\n",
    "from xgboost import XGBRegressor\n",
    "from feature_engine.outliers import Winsorizer\n",
    "from scipy.stats import kendalltau, spearmanr\n",
    "from sklearn.metrics import make_scorer, r2_score\n",
    "\n",
    "\n",
    "# Libraries for saving\n",
    "import pickle\n",
    "import json\n"
   ]
  },
  {
   "cell_type": "markdown",
   "metadata": {},
   "source": [
    "## Data Loading"
   ]
  },
  {
   "cell_type": "code",
   "execution_count": 4,
   "metadata": {},
   "outputs": [
    {
     "data": {
      "text/html": [
       "<div>\n",
       "<style scoped>\n",
       "    .dataframe tbody tr th:only-of-type {\n",
       "        vertical-align: middle;\n",
       "    }\n",
       "\n",
       "    .dataframe tbody tr th {\n",
       "        vertical-align: top;\n",
       "    }\n",
       "\n",
       "    .dataframe thead th {\n",
       "        text-align: right;\n",
       "    }\n",
       "</style>\n",
       "<table border=\"1\" class=\"dataframe\">\n",
       "  <thead>\n",
       "    <tr style=\"text-align: right;\">\n",
       "      <th></th>\n",
       "      <th>Posted On</th>\n",
       "      <th>BHK</th>\n",
       "      <th>Rent</th>\n",
       "      <th>Size</th>\n",
       "      <th>Floor</th>\n",
       "      <th>Area Type</th>\n",
       "      <th>Area Locality</th>\n",
       "      <th>City</th>\n",
       "      <th>Furnishing Status</th>\n",
       "      <th>Tenant Preferred</th>\n",
       "      <th>Bathroom</th>\n",
       "      <th>Point of Contact</th>\n",
       "    </tr>\n",
       "  </thead>\n",
       "  <tbody>\n",
       "    <tr>\n",
       "      <th>0</th>\n",
       "      <td>2022-05-18</td>\n",
       "      <td>2</td>\n",
       "      <td>10000</td>\n",
       "      <td>1100</td>\n",
       "      <td>Ground out of 2</td>\n",
       "      <td>Super Area</td>\n",
       "      <td>Bandel</td>\n",
       "      <td>Kolkata</td>\n",
       "      <td>Unfurnished</td>\n",
       "      <td>Bachelors/Family</td>\n",
       "      <td>2</td>\n",
       "      <td>Contact Owner</td>\n",
       "    </tr>\n",
       "    <tr>\n",
       "      <th>1</th>\n",
       "      <td>2022-05-13</td>\n",
       "      <td>2</td>\n",
       "      <td>20000</td>\n",
       "      <td>800</td>\n",
       "      <td>1 out of 3</td>\n",
       "      <td>Super Area</td>\n",
       "      <td>Phool Bagan, Kankurgachi</td>\n",
       "      <td>Kolkata</td>\n",
       "      <td>Semi-Furnished</td>\n",
       "      <td>Bachelors/Family</td>\n",
       "      <td>1</td>\n",
       "      <td>Contact Owner</td>\n",
       "    </tr>\n",
       "    <tr>\n",
       "      <th>2</th>\n",
       "      <td>2022-05-16</td>\n",
       "      <td>2</td>\n",
       "      <td>17000</td>\n",
       "      <td>1000</td>\n",
       "      <td>1 out of 3</td>\n",
       "      <td>Super Area</td>\n",
       "      <td>Salt Lake City Sector 2</td>\n",
       "      <td>Kolkata</td>\n",
       "      <td>Semi-Furnished</td>\n",
       "      <td>Bachelors/Family</td>\n",
       "      <td>1</td>\n",
       "      <td>Contact Owner</td>\n",
       "    </tr>\n",
       "    <tr>\n",
       "      <th>3</th>\n",
       "      <td>2022-07-04</td>\n",
       "      <td>2</td>\n",
       "      <td>10000</td>\n",
       "      <td>800</td>\n",
       "      <td>1 out of 2</td>\n",
       "      <td>Super Area</td>\n",
       "      <td>Dumdum Park</td>\n",
       "      <td>Kolkata</td>\n",
       "      <td>Unfurnished</td>\n",
       "      <td>Bachelors/Family</td>\n",
       "      <td>1</td>\n",
       "      <td>Contact Owner</td>\n",
       "    </tr>\n",
       "    <tr>\n",
       "      <th>4</th>\n",
       "      <td>2022-05-09</td>\n",
       "      <td>2</td>\n",
       "      <td>7500</td>\n",
       "      <td>850</td>\n",
       "      <td>1 out of 2</td>\n",
       "      <td>Carpet Area</td>\n",
       "      <td>South Dum Dum</td>\n",
       "      <td>Kolkata</td>\n",
       "      <td>Unfurnished</td>\n",
       "      <td>Bachelors</td>\n",
       "      <td>1</td>\n",
       "      <td>Contact Owner</td>\n",
       "    </tr>\n",
       "    <tr>\n",
       "      <th>5</th>\n",
       "      <td>2022-04-29</td>\n",
       "      <td>2</td>\n",
       "      <td>7000</td>\n",
       "      <td>600</td>\n",
       "      <td>Ground out of 1</td>\n",
       "      <td>Super Area</td>\n",
       "      <td>Thakurpukur</td>\n",
       "      <td>Kolkata</td>\n",
       "      <td>Unfurnished</td>\n",
       "      <td>Bachelors/Family</td>\n",
       "      <td>2</td>\n",
       "      <td>Contact Owner</td>\n",
       "    </tr>\n",
       "    <tr>\n",
       "      <th>6</th>\n",
       "      <td>2022-06-21</td>\n",
       "      <td>2</td>\n",
       "      <td>10000</td>\n",
       "      <td>700</td>\n",
       "      <td>Ground out of 4</td>\n",
       "      <td>Super Area</td>\n",
       "      <td>Malancha</td>\n",
       "      <td>Kolkata</td>\n",
       "      <td>Unfurnished</td>\n",
       "      <td>Bachelors</td>\n",
       "      <td>2</td>\n",
       "      <td>Contact Agent</td>\n",
       "    </tr>\n",
       "    <tr>\n",
       "      <th>7</th>\n",
       "      <td>2022-06-21</td>\n",
       "      <td>1</td>\n",
       "      <td>5000</td>\n",
       "      <td>250</td>\n",
       "      <td>1 out of 2</td>\n",
       "      <td>Super Area</td>\n",
       "      <td>Malancha</td>\n",
       "      <td>Kolkata</td>\n",
       "      <td>Unfurnished</td>\n",
       "      <td>Bachelors</td>\n",
       "      <td>1</td>\n",
       "      <td>Contact Agent</td>\n",
       "    </tr>\n",
       "    <tr>\n",
       "      <th>8</th>\n",
       "      <td>2022-06-07</td>\n",
       "      <td>2</td>\n",
       "      <td>26000</td>\n",
       "      <td>800</td>\n",
       "      <td>1 out of 2</td>\n",
       "      <td>Carpet Area</td>\n",
       "      <td>Palm Avenue Kolkata, Ballygunge</td>\n",
       "      <td>Kolkata</td>\n",
       "      <td>Unfurnished</td>\n",
       "      <td>Bachelors</td>\n",
       "      <td>2</td>\n",
       "      <td>Contact Agent</td>\n",
       "    </tr>\n",
       "    <tr>\n",
       "      <th>9</th>\n",
       "      <td>2022-06-20</td>\n",
       "      <td>2</td>\n",
       "      <td>10000</td>\n",
       "      <td>1000</td>\n",
       "      <td>1 out of 3</td>\n",
       "      <td>Carpet Area</td>\n",
       "      <td>Natunhat</td>\n",
       "      <td>Kolkata</td>\n",
       "      <td>Semi-Furnished</td>\n",
       "      <td>Bachelors/Family</td>\n",
       "      <td>2</td>\n",
       "      <td>Contact Owner</td>\n",
       "    </tr>\n",
       "  </tbody>\n",
       "</table>\n",
       "</div>"
      ],
      "text/plain": [
       "    Posted On  BHK   Rent  Size            Floor    Area Type  \\\n",
       "0  2022-05-18    2  10000  1100  Ground out of 2   Super Area   \n",
       "1  2022-05-13    2  20000   800       1 out of 3   Super Area   \n",
       "2  2022-05-16    2  17000  1000       1 out of 3   Super Area   \n",
       "3  2022-07-04    2  10000   800       1 out of 2   Super Area   \n",
       "4  2022-05-09    2   7500   850       1 out of 2  Carpet Area   \n",
       "5  2022-04-29    2   7000   600  Ground out of 1   Super Area   \n",
       "6  2022-06-21    2  10000   700  Ground out of 4   Super Area   \n",
       "7  2022-06-21    1   5000   250       1 out of 2   Super Area   \n",
       "8  2022-06-07    2  26000   800       1 out of 2  Carpet Area   \n",
       "9  2022-06-20    2  10000  1000       1 out of 3  Carpet Area   \n",
       "\n",
       "                     Area Locality     City Furnishing Status  \\\n",
       "0                           Bandel  Kolkata       Unfurnished   \n",
       "1         Phool Bagan, Kankurgachi  Kolkata    Semi-Furnished   \n",
       "2          Salt Lake City Sector 2  Kolkata    Semi-Furnished   \n",
       "3                      Dumdum Park  Kolkata       Unfurnished   \n",
       "4                    South Dum Dum  Kolkata       Unfurnished   \n",
       "5                      Thakurpukur  Kolkata       Unfurnished   \n",
       "6                         Malancha  Kolkata       Unfurnished   \n",
       "7                         Malancha  Kolkata       Unfurnished   \n",
       "8  Palm Avenue Kolkata, Ballygunge  Kolkata       Unfurnished   \n",
       "9                         Natunhat  Kolkata    Semi-Furnished   \n",
       "\n",
       "   Tenant Preferred  Bathroom Point of Contact  \n",
       "0  Bachelors/Family         2    Contact Owner  \n",
       "1  Bachelors/Family         1    Contact Owner  \n",
       "2  Bachelors/Family         1    Contact Owner  \n",
       "3  Bachelors/Family         1    Contact Owner  \n",
       "4         Bachelors         1    Contact Owner  \n",
       "5  Bachelors/Family         2    Contact Owner  \n",
       "6         Bachelors         2    Contact Agent  \n",
       "7         Bachelors         1    Contact Agent  \n",
       "8         Bachelors         2    Contact Agent  \n",
       "9  Bachelors/Family         2    Contact Owner  "
      ]
     },
     "execution_count": 4,
     "metadata": {},
     "output_type": "execute_result"
    }
   ],
   "source": [
    "# Load Dataset\n",
    "data = pd.read_csv('House_Rent_Dataset.csv')\n",
    "data.head(10)"
   ]
  },
  {
   "cell_type": "markdown",
   "metadata": {},
   "source": [
    "Data Successfully Loaded"
   ]
  },
  {
   "cell_type": "code",
   "execution_count": 1498,
   "metadata": {},
   "outputs": [
    {
     "data": {
      "text/html": [
       "<div>\n",
       "<style scoped>\n",
       "    .dataframe tbody tr th:only-of-type {\n",
       "        vertical-align: middle;\n",
       "    }\n",
       "\n",
       "    .dataframe tbody tr th {\n",
       "        vertical-align: top;\n",
       "    }\n",
       "\n",
       "    .dataframe thead th {\n",
       "        text-align: right;\n",
       "    }\n",
       "</style>\n",
       "<table border=\"1\" class=\"dataframe\">\n",
       "  <thead>\n",
       "    <tr style=\"text-align: right;\">\n",
       "      <th></th>\n",
       "      <th>Posted On</th>\n",
       "      <th>BHK</th>\n",
       "      <th>Rent</th>\n",
       "      <th>Size</th>\n",
       "      <th>Floor</th>\n",
       "      <th>Area Type</th>\n",
       "      <th>Area Locality</th>\n",
       "      <th>City</th>\n",
       "      <th>Furnishing Status</th>\n",
       "      <th>Tenant Preferred</th>\n",
       "      <th>Bathroom</th>\n",
       "      <th>Point of Contact</th>\n",
       "    </tr>\n",
       "  </thead>\n",
       "  <tbody>\n",
       "    <tr>\n",
       "      <th>4736</th>\n",
       "      <td>2022-06-28</td>\n",
       "      <td>3</td>\n",
       "      <td>15000</td>\n",
       "      <td>1500</td>\n",
       "      <td>Lower Basement out of 2</td>\n",
       "      <td>Super Area</td>\n",
       "      <td>Almasguda</td>\n",
       "      <td>Hyderabad</td>\n",
       "      <td>Semi-Furnished</td>\n",
       "      <td>Family</td>\n",
       "      <td>3</td>\n",
       "      <td>Contact Owner</td>\n",
       "    </tr>\n",
       "    <tr>\n",
       "      <th>4737</th>\n",
       "      <td>2022-07-07</td>\n",
       "      <td>3</td>\n",
       "      <td>15000</td>\n",
       "      <td>1500</td>\n",
       "      <td>Lower Basement out of 2</td>\n",
       "      <td>Super Area</td>\n",
       "      <td>Almasguda</td>\n",
       "      <td>Hyderabad</td>\n",
       "      <td>Semi-Furnished</td>\n",
       "      <td>Bachelors/Family</td>\n",
       "      <td>3</td>\n",
       "      <td>Contact Owner</td>\n",
       "    </tr>\n",
       "    <tr>\n",
       "      <th>4738</th>\n",
       "      <td>2022-07-06</td>\n",
       "      <td>2</td>\n",
       "      <td>17000</td>\n",
       "      <td>855</td>\n",
       "      <td>4 out of 5</td>\n",
       "      <td>Carpet Area</td>\n",
       "      <td>Godavari Homes, Quthbullapur</td>\n",
       "      <td>Hyderabad</td>\n",
       "      <td>Unfurnished</td>\n",
       "      <td>Bachelors</td>\n",
       "      <td>2</td>\n",
       "      <td>Contact Agent</td>\n",
       "    </tr>\n",
       "    <tr>\n",
       "      <th>4739</th>\n",
       "      <td>2022-07-06</td>\n",
       "      <td>2</td>\n",
       "      <td>25000</td>\n",
       "      <td>1040</td>\n",
       "      <td>2 out of 4</td>\n",
       "      <td>Carpet Area</td>\n",
       "      <td>Gachibowli</td>\n",
       "      <td>Hyderabad</td>\n",
       "      <td>Unfurnished</td>\n",
       "      <td>Bachelors</td>\n",
       "      <td>2</td>\n",
       "      <td>Contact Owner</td>\n",
       "    </tr>\n",
       "    <tr>\n",
       "      <th>4740</th>\n",
       "      <td>2022-06-02</td>\n",
       "      <td>2</td>\n",
       "      <td>12000</td>\n",
       "      <td>1350</td>\n",
       "      <td>2 out of 2</td>\n",
       "      <td>Super Area</td>\n",
       "      <td>Old Alwal</td>\n",
       "      <td>Hyderabad</td>\n",
       "      <td>Unfurnished</td>\n",
       "      <td>Bachelors/Family</td>\n",
       "      <td>2</td>\n",
       "      <td>Contact Owner</td>\n",
       "    </tr>\n",
       "    <tr>\n",
       "      <th>4741</th>\n",
       "      <td>2022-05-18</td>\n",
       "      <td>2</td>\n",
       "      <td>15000</td>\n",
       "      <td>1000</td>\n",
       "      <td>3 out of 5</td>\n",
       "      <td>Carpet Area</td>\n",
       "      <td>Bandam Kommu</td>\n",
       "      <td>Hyderabad</td>\n",
       "      <td>Semi-Furnished</td>\n",
       "      <td>Bachelors/Family</td>\n",
       "      <td>2</td>\n",
       "      <td>Contact Owner</td>\n",
       "    </tr>\n",
       "    <tr>\n",
       "      <th>4742</th>\n",
       "      <td>2022-05-15</td>\n",
       "      <td>3</td>\n",
       "      <td>29000</td>\n",
       "      <td>2000</td>\n",
       "      <td>1 out of 4</td>\n",
       "      <td>Super Area</td>\n",
       "      <td>Manikonda, Hyderabad</td>\n",
       "      <td>Hyderabad</td>\n",
       "      <td>Semi-Furnished</td>\n",
       "      <td>Bachelors/Family</td>\n",
       "      <td>3</td>\n",
       "      <td>Contact Owner</td>\n",
       "    </tr>\n",
       "    <tr>\n",
       "      <th>4743</th>\n",
       "      <td>2022-07-10</td>\n",
       "      <td>3</td>\n",
       "      <td>35000</td>\n",
       "      <td>1750</td>\n",
       "      <td>3 out of 5</td>\n",
       "      <td>Carpet Area</td>\n",
       "      <td>Himayath Nagar, NH 7</td>\n",
       "      <td>Hyderabad</td>\n",
       "      <td>Semi-Furnished</td>\n",
       "      <td>Bachelors/Family</td>\n",
       "      <td>3</td>\n",
       "      <td>Contact Agent</td>\n",
       "    </tr>\n",
       "    <tr>\n",
       "      <th>4744</th>\n",
       "      <td>2022-07-06</td>\n",
       "      <td>3</td>\n",
       "      <td>45000</td>\n",
       "      <td>1500</td>\n",
       "      <td>23 out of 34</td>\n",
       "      <td>Carpet Area</td>\n",
       "      <td>Gachibowli</td>\n",
       "      <td>Hyderabad</td>\n",
       "      <td>Semi-Furnished</td>\n",
       "      <td>Family</td>\n",
       "      <td>2</td>\n",
       "      <td>Contact Agent</td>\n",
       "    </tr>\n",
       "    <tr>\n",
       "      <th>4745</th>\n",
       "      <td>2022-05-04</td>\n",
       "      <td>2</td>\n",
       "      <td>15000</td>\n",
       "      <td>1000</td>\n",
       "      <td>4 out of 5</td>\n",
       "      <td>Carpet Area</td>\n",
       "      <td>Suchitra Circle</td>\n",
       "      <td>Hyderabad</td>\n",
       "      <td>Unfurnished</td>\n",
       "      <td>Bachelors</td>\n",
       "      <td>2</td>\n",
       "      <td>Contact Owner</td>\n",
       "    </tr>\n",
       "  </tbody>\n",
       "</table>\n",
       "</div>"
      ],
      "text/plain": [
       "       Posted On  BHK   Rent  Size                    Floor    Area Type  \\\n",
       "4736  2022-06-28    3  15000  1500  Lower Basement out of 2   Super Area   \n",
       "4737  2022-07-07    3  15000  1500  Lower Basement out of 2   Super Area   \n",
       "4738  2022-07-06    2  17000   855               4 out of 5  Carpet Area   \n",
       "4739  2022-07-06    2  25000  1040               2 out of 4  Carpet Area   \n",
       "4740  2022-06-02    2  12000  1350               2 out of 2   Super Area   \n",
       "4741  2022-05-18    2  15000  1000               3 out of 5  Carpet Area   \n",
       "4742  2022-05-15    3  29000  2000               1 out of 4   Super Area   \n",
       "4743  2022-07-10    3  35000  1750               3 out of 5  Carpet Area   \n",
       "4744  2022-07-06    3  45000  1500             23 out of 34  Carpet Area   \n",
       "4745  2022-05-04    2  15000  1000               4 out of 5  Carpet Area   \n",
       "\n",
       "                     Area Locality       City Furnishing Status  \\\n",
       "4736                     Almasguda  Hyderabad    Semi-Furnished   \n",
       "4737                     Almasguda  Hyderabad    Semi-Furnished   \n",
       "4738  Godavari Homes, Quthbullapur  Hyderabad       Unfurnished   \n",
       "4739                    Gachibowli  Hyderabad       Unfurnished   \n",
       "4740                     Old Alwal  Hyderabad       Unfurnished   \n",
       "4741                  Bandam Kommu  Hyderabad    Semi-Furnished   \n",
       "4742          Manikonda, Hyderabad  Hyderabad    Semi-Furnished   \n",
       "4743          Himayath Nagar, NH 7  Hyderabad    Semi-Furnished   \n",
       "4744                    Gachibowli  Hyderabad    Semi-Furnished   \n",
       "4745               Suchitra Circle  Hyderabad       Unfurnished   \n",
       "\n",
       "      Tenant Preferred  Bathroom Point of Contact  \n",
       "4736            Family         3    Contact Owner  \n",
       "4737  Bachelors/Family         3    Contact Owner  \n",
       "4738         Bachelors         2    Contact Agent  \n",
       "4739         Bachelors         2    Contact Owner  \n",
       "4740  Bachelors/Family         2    Contact Owner  \n",
       "4741  Bachelors/Family         2    Contact Owner  \n",
       "4742  Bachelors/Family         3    Contact Owner  \n",
       "4743  Bachelors/Family         3    Contact Agent  \n",
       "4744            Family         2    Contact Agent  \n",
       "4745         Bachelors         2    Contact Owner  "
      ]
     },
     "execution_count": 1498,
     "metadata": {},
     "output_type": "execute_result"
    }
   ],
   "source": [
    "data.tail(10)"
   ]
  },
  {
   "cell_type": "code",
   "execution_count": 1499,
   "metadata": {},
   "outputs": [
    {
     "name": "stdout",
     "output_type": "stream",
     "text": [
      "<class 'pandas.core.frame.DataFrame'>\n",
      "RangeIndex: 4746 entries, 0 to 4745\n",
      "Data columns (total 12 columns):\n",
      " #   Column             Non-Null Count  Dtype \n",
      "---  ------             --------------  ----- \n",
      " 0   Posted On          4746 non-null   object\n",
      " 1   BHK                4746 non-null   int64 \n",
      " 2   Rent               4746 non-null   int64 \n",
      " 3   Size               4746 non-null   int64 \n",
      " 4   Floor              4746 non-null   object\n",
      " 5   Area Type          4746 non-null   object\n",
      " 6   Area Locality      4746 non-null   object\n",
      " 7   City               4746 non-null   object\n",
      " 8   Furnishing Status  4746 non-null   object\n",
      " 9   Tenant Preferred   4746 non-null   object\n",
      " 10  Bathroom           4746 non-null   int64 \n",
      " 11  Point of Contact   4746 non-null   object\n",
      "dtypes: int64(4), object(8)\n",
      "memory usage: 445.1+ KB\n"
     ]
    }
   ],
   "source": [
    "# Check info data\n",
    "data.info()"
   ]
  },
  {
   "cell_type": "markdown",
   "metadata": {},
   "source": [
    "**Insight**\n",
    "- Rows : `4746`\n",
    "- Columns : `12`\n",
    "- Dtypes : `int64(4) and object(8)`                                   \n",
    "\n",
    "Notes : Berdasarkan pengamatan, kolom `Posted On` merupakan kolom tanggal kapan terbitnya iklan dari tawaran sewa rumah/apartment/rusun tersebut. Sehingga, by personal judgment iklan kapan terbitnya tawaran sewa tidak ada mempengaruhi harga sewa rumah/apartment/rusun. Oleh karena itu, diperlukannya drop kolom `Posted On` "
   ]
  },
  {
   "cell_type": "code",
   "execution_count": 1500,
   "metadata": {},
   "outputs": [],
   "source": [
    "# Drop column 'Posted On' \n",
    "data.drop(['Posted On'], axis=1, inplace=True)"
   ]
  },
  {
   "cell_type": "code",
   "execution_count": 1501,
   "metadata": {},
   "outputs": [
    {
     "data": {
      "text/plain": [
       "8"
      ]
     },
     "execution_count": 1501,
     "metadata": {},
     "output_type": "execute_result"
    }
   ],
   "source": [
    "# Check Duplicated data\n",
    "data.duplicated().sum()"
   ]
  },
  {
   "cell_type": "code",
   "execution_count": 1502,
   "metadata": {},
   "outputs": [],
   "source": [
    "# Drop Duplicated data\n",
    "data.drop_duplicates(inplace=True)"
   ]
  },
  {
   "cell_type": "markdown",
   "metadata": {},
   "source": [
    "## Exploratory Data Analysis (EDA)"
   ]
  },
  {
   "cell_type": "code",
   "execution_count": 1503,
   "metadata": {},
   "outputs": [
    {
     "data": {
      "image/png": "[encoded data removed]",
      "text/plain": [
       "<Figure size 800x600 with 1 Axes>"
      ]
     },
     "metadata": {},
     "output_type": "display_data"
    }
   ],
   "source": [
    "# Histogram untuk melihat distribusi harga sewa\n",
    "plt.figure(figsize=(8, 6))\n",
    "sns.histplot(data['Rent'], bins=20, kde=True,)\n",
    "plt.title('Price of Rent')\n",
    "plt.xlabel('Rent')\n",
    "plt.ylabel('Frequency')\n",
    "plt.show()"
   ]
  },
  {
   "cell_type": "markdown",
   "metadata": {},
   "source": [
    "**Insight** : Dari histogram, kita bisa melihat bahwa distribusi harga sewa cenderung condong ke kanan (right-skewed) atau positif skewed, dengan mayoritas sewa memiliki harga di sekitar nilai rendah. Ini menunjukkan bahwa sebagian besar penyewaan memiliki harga yang relatif rendah. Kita juga bisa berasumsi bahwa distribusi harga sewa memiliki outlier dan faktor yang mempengaruhi distribusi harga sewa itu sendiri. "
   ]
  },
  {
   "cell_type": "code",
   "execution_count": 1504,
   "metadata": {},
   "outputs": [
    {
     "data": {
      "text/plain": [
       "Text(0.5, 1.0, 'Furnishing Status vs Rent')"
      ]
     },
     "execution_count": 1504,
     "metadata": {},
     "output_type": "execute_result"
    },
    {
     "data": {
      "image/png": "[encoded data removed]",
      "text/plain": [
       "<Figure size 640x480 with 1 Axes>"
      ]
     },
     "metadata": {},
     "output_type": "display_data"
    }
   ],
   "source": [
    "#Scatterplot between Furnishing Status and Rent\n",
    "\n",
    "sns.scatterplot(data=data,x='Furnishing Status', y='Rent')\n",
    "plt.title('Furnishing Status vs Rent')"
   ]
  },
  {
   "cell_type": "markdown",
   "metadata": {},
   "source": [
    "**Insight** : Diketahui bahwa harga sewa tertinggi terdapat pada semi-furnished, akan tetapi bukan berarti semi-furnished lebih mahal dari furnished, karena masih banyak variabel dari furnishing status yang mempengaruhi harga sewa, Dengan melihatnya plot paling teratas dapat disimpulkan harga sewa memiliki outlier "
   ]
  },
  {
   "cell_type": "code",
   "execution_count": 1505,
   "metadata": {},
   "outputs": [
    {
     "data": {
      "text/plain": [
       "Text(0.5, 1.0, 'Size vs Rent')"
      ]
     },
     "execution_count": 1505,
     "metadata": {},
     "output_type": "execute_result"
    },
    {
     "data": {
      "image/png": "[encoded data removed]",
      "text/plain": [
       "<Figure size 640x480 with 1 Axes>"
      ]
     },
     "metadata": {},
     "output_type": "display_data"
    }
   ],
   "source": [
    "#Scatterplot between Size and Rent\n",
    "\n",
    "sns.scatterplot(data=data,x='Size', y='Rent')\n",
    "plt.title('Size vs Rent')"
   ]
  },
  {
   "cell_type": "markdown",
   "metadata": {},
   "source": [
    "**Insight** : Diketahui bahwa size mempengaruhi harga sewa, harga sewa dominan terletak pada harga yang relatif rendah. Akantetapi, dikarenakan tidak size saja yang mempengaruhi harga sewa maka harga tertinggi tidak terdapat pada size yang tinggi juga "
   ]
  },
  {
   "cell_type": "code",
   "execution_count": 1506,
   "metadata": {},
   "outputs": [
    {
     "data": {
      "image/png": "[encoded data removed]",
      "text/plain": [
       "<Figure size 800x600 with 1 Axes>"
      ]
     },
     "metadata": {},
     "output_type": "display_data"
    }
   ],
   "source": [
    "# Box plot untuk melihat adanya outlier\n",
    "plt.figure(figsize=(8, 6))\n",
    "sns.boxplot(data['Rent'])\n",
    "plt.title('Boxplot of Rent')\n",
    "plt.xlabel('Rent')\n",
    "plt.show()"
   ]
  },
  {
   "cell_type": "markdown",
   "metadata": {},
   "source": [
    "**Insight**                            \n",
    "Outlier: Dari box plot, kita bisa melihat adanya beberapa outlier di bagian atas tanduk atau distribusi harga sewa. Outlier ini menunjukkan adanya beberapa perjalanan yang memiliki harga tinggi dan satu harga sewa jauh lebih tinggi dari mayoritas harga sewa lainnya."
   ]
  },
  {
   "cell_type": "code",
   "execution_count": 1507,
   "metadata": {},
   "outputs": [
    {
     "data": {
      "text/plain": [
       "Area Type\n",
       "Super Area     2445\n",
       "Carpet Area    2291\n",
       "Built Area        2\n",
       "Name: count, dtype: int64"
      ]
     },
     "execution_count": 1507,
     "metadata": {},
     "output_type": "execute_result"
    }
   ],
   "source": [
    "Area_Type_freq = data['Area Type'].value_counts()\n",
    "Area_Type_freq"
   ]
  },
  {
   "cell_type": "code",
   "execution_count": 1508,
   "metadata": {},
   "outputs": [
    {
     "data": {
      "text/plain": [
       "<Axes: xlabel='Area Type'>"
      ]
     },
     "execution_count": 1508,
     "metadata": {},
     "output_type": "execute_result"
    },
    {
     "data": {
      "image/png": "[encoded data removed]",
      "text/plain": [
       "<Figure size 640x480 with 1 Axes>"
      ]
     },
     "metadata": {},
     "output_type": "display_data"
    }
   ],
   "source": [
    "Area_Type_freq.plot(kind='bar', rot=0)"
   ]
  },
  {
   "cell_type": "markdown",
   "metadata": {},
   "source": [
    "**Insight** : Diketahui tipe area memiliki 3 area yang berbeda yaitu Super Area, Carpet Area, dan Built Area. Salah satu tipe area yaitu built area didefinisikan sebagai outlier karena hanya memiliki jumlah value 2 dibandingkan area lainnya dan memberikan interpretasi yang buruk. Sehingga diberi Action dengan melakukan drop value built area."
   ]
  },
  {
   "cell_type": "code",
   "execution_count": 1509,
   "metadata": {},
   "outputs": [],
   "source": [
    "# Drop rows where the value in the 'Area Type' column is 'Built Area'\n",
    "data.drop(data[data['Area Type'] == 'Built Area'].index, inplace=True)"
   ]
  },
  {
   "cell_type": "markdown",
   "metadata": {},
   "source": [
    "## Feature Engineering"
   ]
  },
  {
   "cell_type": "markdown",
   "metadata": {},
   "source": [
    "### Handling Cardinality"
   ]
  },
  {
   "cell_type": "code",
   "execution_count": 1510,
   "metadata": {},
   "outputs": [
    {
     "data": {
      "text/html": [
       "<div>\n",
       "<style scoped>\n",
       "    .dataframe tbody tr th:only-of-type {\n",
       "        vertical-align: middle;\n",
       "    }\n",
       "\n",
       "    .dataframe tbody tr th {\n",
       "        vertical-align: top;\n",
       "    }\n",
       "\n",
       "    .dataframe thead th {\n",
       "        text-align: right;\n",
       "    }\n",
       "</style>\n",
       "<table border=\"1\" class=\"dataframe\">\n",
       "  <thead>\n",
       "    <tr style=\"text-align: right;\">\n",
       "      <th></th>\n",
       "      <th>nama kolom</th>\n",
       "      <th>jumlah nilai unique</th>\n",
       "      <th>nilai unique</th>\n",
       "    </tr>\n",
       "  </thead>\n",
       "  <tbody>\n",
       "    <tr>\n",
       "      <th>0</th>\n",
       "      <td>Floor</td>\n",
       "      <td>480</td>\n",
       "      <td>[Ground out of 2, 1 out of 3, 1 out of 2, Ground out of 1, Ground out of 4, 1 out of 4, 1 out of 1, Ground out of 3, 2 out of 3, 4 out of 5, 2 out of 2, 2 out of 5, 4 out of 14, 3 out of 3, 5 out of 5, 4 out of 4, 7 out of 8, 2 out of 4, 3 out of 4, 1 out of 5, 8 out of 5, Ground out of 6, 2 out of 1, Upper Basement out of 4, Ground out of 5, 3 out of 5, 11 out of 19, 5 out of 10, 11 out of 14, Lower Basement out of 2, 2 out of 7, 4 out of 10, 7 out of 10, 2 out of 13, 6 out of 7, 4 out of 7, 14 out of 14, 43 out of 78, 2 out of 8, 13 out of 18, 5 out of 12, 18 out of 24, 3 out of 7, 17 out of 31, 11 out of 21, 7 out of 19, 14 out of 23, 9 out of 20, Upper Basement out of 9, 19 out of 24, 3 out of 21, 1 out of 22, 8 out of 8, 6 out of 12, 4 out of 58, Upper Basement out of 16, 60 out of 66, 34 out of 48, 5 out of 8, 5 out of 14, 14 out of 40, 5 out of 7, 9 out of 22, 12 out of 18, 26 out of 44, 1 out of 8, 25 out of 42, 25 out of 41, 53 out of 78, Ground out of 7, 14 out of 20, 13 out of 20, 16 out of 23, 10 out of 18, 39 out of 60, 16 out of 21, 10 out of 32, 4 out of 8, 12 out of 24, 32 out of 41, 3 out of 30, 13 out of 21, 9 out of 29, 47 out of 89, 7 out of 41, 28 out of 30, 13 out of 15, 6 out of 21, 8 out of 16, 2 out of 6, 5 out of 19, 3 out of 11, 17 out of 42, 10 out of 12, 8 out of 28, 9 out of 15, 14 out of 22, 18 out of 40, 9 out of 17, 12 out of 45, ...]</td>\n",
       "    </tr>\n",
       "    <tr>\n",
       "      <th>1</th>\n",
       "      <td>Area Type</td>\n",
       "      <td>2</td>\n",
       "      <td>[Super Area, Carpet Area]</td>\n",
       "    </tr>\n",
       "    <tr>\n",
       "      <th>2</th>\n",
       "      <td>Area Locality</td>\n",
       "      <td>2234</td>\n",
       "      <td>[Bandel, Phool Bagan, Kankurgachi, Salt Lake City Sector 2, Dumdum Park, South Dum Dum, Thakurpukur, Malancha, Palm Avenue Kolkata, Ballygunge, Natunhat, Action Area 1, Rajarhat Newtown, Keshtopur, Tarulia, Keshtopur, Dum Dum Metro, Paschim Barisha, New Town Action Area 1, Barasat, Behala, Behala Chowrasta, Santoshpur, Garia Station, Garia, Joka, Sreebhumi, Rajarhat, Dum Dum, Kodalia, Hooghly-Chinsurah, Baguiati, Rabindra Sarobar Area, Dhakuria, Baghajatin, Project Kaikhali, Vip Road, Vip Road, Baruipur, Shyam Bazar, Birati, Bansdroni, Jadavpur University, Bhadrakali, Ballygunge, Kalikapur, Baishnabghata Patuli Township, Patuli, Salt Lake City, New Town, Pancha Sayar, Hooghly-Chinsurah, Amtala, Diamond Harbour Road, Shrachi Village, Madhyam Gram, Kasba, VIP Road Haldiram, Sarsuna, Naihati, Baksara, Chak Thakurani, Thakurpukur, Jadavpur, Salt Lake City Sector 1, Beliaghata, Magnolia Prestige, Rajarhat, Dum Dum Heights, Jessore Road, Sonarpur, Lake Town, Belghoria, Rabindra Pally, Keshtopur, shukhobrishti, Baishnavghata patuli , house number s-300 Kolkata 700094, Hazra, Kalighat, Ajoy Nagar, Kasba -East, New Garia, Garia, Anandapur, Boral, Bagbazar, Salt Lake City Sector 3, Avenue S, Santoshpur, Pratiraksha Nagar, Kudghat, Ashok Nagar, Sakher Bazar, Purba Barisha, Purbasan, Thakurpukur, Bidhan Pally, Bansdroni, Naktala, Garia, Tiljala Road, Sankaritola, Parnashree Lake, Behala, Garia, Dakshineswar, chatana, Mukundapur, Salt Lake City Sector 5, Entally, Kaikhali, Dash Drone, Rajarhat Newtown, Rajdanga Gardens, Kasba, South Baksara, Chandannagar, Hooghly-Chinsurah, Sukhpally, Haltu, Garia Dhalua Nabapally, Chinar Park, Rajarhat, Konnagar, Behala silpara, New Barrakpur, Thakurpukur, Kolkata, Hindmotor, Howrah, ...]</td>\n",
       "    </tr>\n",
       "    <tr>\n",
       "      <th>3</th>\n",
       "      <td>City</td>\n",
       "      <td>6</td>\n",
       "      <td>[Kolkata, Mumbai, Bangalore, Delhi, Chennai, Hyderabad]</td>\n",
       "    </tr>\n",
       "    <tr>\n",
       "      <th>4</th>\n",
       "      <td>Furnishing Status</td>\n",
       "      <td>3</td>\n",
       "      <td>[Unfurnished, Semi-Furnished, Furnished]</td>\n",
       "    </tr>\n",
       "    <tr>\n",
       "      <th>5</th>\n",
       "      <td>Tenant Preferred</td>\n",
       "      <td>3</td>\n",
       "      <td>[Bachelors/Family, Bachelors, Family]</td>\n",
       "    </tr>\n",
       "    <tr>\n",
       "      <th>6</th>\n",
       "      <td>Point of Contact</td>\n",
       "      <td>3</td>\n",
       "      <td>[Contact Owner, Contact Agent, Contact Builder]</td>\n",
       "    </tr>\n",
       "  </tbody>\n",
       "</table>\n",
       "</div>"
      ],
      "text/plain": [
       "          nama kolom  jumlah nilai unique  \\\n",
       "0              Floor                  480   \n",
       "1          Area Type                    2   \n",
       "2      Area Locality                 2234   \n",
       "3               City                    6   \n",
       "4  Furnishing Status                    3   \n",
       "5   Tenant Preferred                    3   \n",
       "6   Point of Contact                    3   \n",
       "\n",
       "                                                                                                                                                                                                                                                                                                                                                                                                                                                                                                                                                                                                                                                                                                                                                                                                                                                                                                                                                                                                                                                                                                                                                                                                                                                                                                                                                                                                                                                                                                                                                                                                                                                                                                                                                                                                  nilai unique  \n",
       "0                                                                                                                                                                                                                                                                                                                                                                [Ground out of 2, 1 out of 3, 1 out of 2, Ground out of 1, Ground out of 4, 1 out of 4, 1 out of 1, Ground out of 3, 2 out of 3, 4 out of 5, 2 out of 2, 2 out of 5, 4 out of 14, 3 out of 3, 5 out of 5, 4 out of 4, 7 out of 8, 2 out of 4, 3 out of 4, 1 out of 5, 8 out of 5, Ground out of 6, 2 out of 1, Upper Basement out of 4, Ground out of 5, 3 out of 5, 11 out of 19, 5 out of 10, 11 out of 14, Lower Basement out of 2, 2 out of 7, 4 out of 10, 7 out of 10, 2 out of 13, 6 out of 7, 4 out of 7, 14 out of 14, 43 out of 78, 2 out of 8, 13 out of 18, 5 out of 12, 18 out of 24, 3 out of 7, 17 out of 31, 11 out of 21, 7 out of 19, 14 out of 23, 9 out of 20, Upper Basement out of 9, 19 out of 24, 3 out of 21, 1 out of 22, 8 out of 8, 6 out of 12, 4 out of 58, Upper Basement out of 16, 60 out of 66, 34 out of 48, 5 out of 8, 5 out of 14, 14 out of 40, 5 out of 7, 9 out of 22, 12 out of 18, 26 out of 44, 1 out of 8, 25 out of 42, 25 out of 41, 53 out of 78, Ground out of 7, 14 out of 20, 13 out of 20, 16 out of 23, 10 out of 18, 39 out of 60, 16 out of 21, 10 out of 32, 4 out of 8, 12 out of 24, 32 out of 41, 3 out of 30, 13 out of 21, 9 out of 29, 47 out of 89, 7 out of 41, 28 out of 30, 13 out of 15, 6 out of 21, 8 out of 16, 2 out of 6, 5 out of 19, 3 out of 11, 17 out of 42, 10 out of 12, 8 out of 28, 9 out of 15, 14 out of 22, 18 out of 40, 9 out of 17, 12 out of 45, ...]  \n",
       "1                                                                                                                                                                                                                                                                                                                                                                                                                                                                                                                                                                                                                                                                                                                                                                                                                                                                                                                                                                                                                                                                                                                                                                                                                                                                                                                                                                                                                                                                                                                                                                                                                                                                                                                                                                                    [Super Area, Carpet Area]  \n",
       "2  [Bandel, Phool Bagan, Kankurgachi, Salt Lake City Sector 2, Dumdum Park, South Dum Dum, Thakurpukur, Malancha, Palm Avenue Kolkata, Ballygunge, Natunhat, Action Area 1, Rajarhat Newtown, Keshtopur, Tarulia, Keshtopur, Dum Dum Metro, Paschim Barisha, New Town Action Area 1, Barasat, Behala, Behala Chowrasta, Santoshpur, Garia Station, Garia, Joka, Sreebhumi, Rajarhat, Dum Dum, Kodalia, Hooghly-Chinsurah, Baguiati, Rabindra Sarobar Area, Dhakuria, Baghajatin, Project Kaikhali, Vip Road, Vip Road, Baruipur, Shyam Bazar, Birati, Bansdroni, Jadavpur University, Bhadrakali, Ballygunge, Kalikapur, Baishnabghata Patuli Township, Patuli, Salt Lake City, New Town, Pancha Sayar, Hooghly-Chinsurah, Amtala, Diamond Harbour Road, Shrachi Village, Madhyam Gram, Kasba, VIP Road Haldiram, Sarsuna, Naihati, Baksara, Chak Thakurani, Thakurpukur, Jadavpur, Salt Lake City Sector 1, Beliaghata, Magnolia Prestige, Rajarhat, Dum Dum Heights, Jessore Road, Sonarpur, Lake Town, Belghoria, Rabindra Pally, Keshtopur, shukhobrishti, Baishnavghata patuli , house number s-300 Kolkata 700094, Hazra, Kalighat, Ajoy Nagar, Kasba -East, New Garia, Garia, Anandapur, Boral, Bagbazar, Salt Lake City Sector 3, Avenue S, Santoshpur, Pratiraksha Nagar, Kudghat, Ashok Nagar, Sakher Bazar, Purba Barisha, Purbasan, Thakurpukur, Bidhan Pally, Bansdroni, Naktala, Garia, Tiljala Road, Sankaritola, Parnashree Lake, Behala, Garia, Dakshineswar, chatana, Mukundapur, Salt Lake City Sector 5, Entally, Kaikhali, Dash Drone, Rajarhat Newtown, Rajdanga Gardens, Kasba, South Baksara, Chandannagar, Hooghly-Chinsurah, Sukhpally, Haltu, Garia Dhalua Nabapally, Chinar Park, Rajarhat, Konnagar, Behala silpara, New Barrakpur, Thakurpukur, Kolkata, Hindmotor, Howrah, ...]  \n",
       "3                                                                                                                                                                                                                                                                                                                                                                                                                                                                                                                                                                                                                                                                                                                                                                                                                                                                                                                                                                                                                                                                                                                                                                                                                                                                                                                                                                                                                                                                                                                                                                                                                                                                                                                                                      [Kolkata, Mumbai, Bangalore, Delhi, Chennai, Hyderabad]  \n",
       "4                                                                                                                                                                                                                                                                                                                                                                                                                                                                                                                                                                                                                                                                                                                                                                                                                                                                                                                                                                                                                                                                                                                                                                                                                                                                                                                                                                                                                                                                                                                                                                                                                                                                                                                                                                     [Unfurnished, Semi-Furnished, Furnished]  \n",
       "5                                                                                                                                                                                                                                                                                                                                                                                                                                                                                                                                                                                                                                                                                                                                                                                                                                                                                                                                                                                                                                                                                                                                                                                                                                                                                                                                                                                                                                                                                                                                                                                                                                                                                                                                                                        [Bachelors/Family, Bachelors, Family]  \n",
       "6                                                                                                                                                                                                                                                                                                                                                                                                                                                                                                                                                                                                                                                                                                                                                                                                                                                                                                                                                                                                                                                                                                                                                                                                                                                                                                                                                                                                                                                                                                                                                                                                                                                                                                                                                              [Contact Owner, Contact Agent, Contact Builder]  "
      ]
     },
     "execution_count": 1510,
     "metadata": {},
     "output_type": "execute_result"
    }
   ],
   "source": [
    "pd.set_option('display.max_colwidth', None)\n",
    "\n",
    "cat_cols = list(data.select_dtypes(include='object').columns)\n",
    "\n",
    "listItem = []\n",
    "for col in cat_cols:\n",
    "  listItem.append([col, data[col].nunique(), data[col].unique()])\n",
    "\n",
    "pd.DataFrame(columns=['nama kolom', 'jumlah nilai unique', 'nilai unique'], data=listItem)"
   ]
  },
  {
   "cell_type": "markdown",
   "metadata": {},
   "source": [
    "**Insight** : Kolom `Floor` dan `Area Locality` memiliki high cardinality, sehingga dilakukannya modifikasi terhadap kolom high cardinality"
   ]
  },
  {
   "cell_type": "code",
   "execution_count": 6,
   "metadata": {},
   "outputs": [],
   "source": [
    "# Melakukan perubahan pada kolom 'Floor'\n",
    "data['Floor'] = data['Floor'].str.split(' ').str[0]\n",
    "data['Floor'] = data['Floor'].str.replace('Ground', '1')\n",
    "data['Floor'] = data['Floor'].str.replace('Upper Basement', '-1')\n",
    "data['Floor'] = data['Floor'].str.replace('Lower Basement', '-2')\n",
    "data['Floor'] = data['Floor'].str.replace('Upper', '2')\n",
    "data['Floor'] = data['Floor'].str.replace('Lower', '1')\n",
    "data['Floor'] = data['Floor'].astype(int)"
   ]
  },
  {
   "cell_type": "markdown",
   "metadata": {},
   "source": [
    "Kolom `Floor` diketahui memiliki dependensi terhadap harga sewa sehingga tidak dapat melakukan drop kolom dan dilakukannya modifikasi terhadap valuenya "
   ]
  },
  {
   "cell_type": "markdown",
   "metadata": {},
   "source": [
    "### Splitting between Train-Set and Test-Set"
   ]
  },
  {
   "cell_type": "code",
   "execution_count": 1512,
   "metadata": {},
   "outputs": [
    {
     "name": "stdout",
     "output_type": "stream",
     "text": [
      "Train Size:  (3788, 10)\n",
      "Test Size:  (948, 10)\n"
     ]
    }
   ],
   "source": [
    "#Splitting between 'X' and 'y'\n",
    "\n",
    "X = data.drop(['Rent'], axis = 1)\n",
    "y = data['Rent']\n",
    "\n",
    "X_train, X_test, y_train, y_test = train_test_split(X, y, test_size = 0.2, random_state = 40)\n",
    "print('Train Size: ', X_train.shape)\n",
    "print('Test Size: ', X_test.shape)"
   ]
  },
  {
   "cell_type": "markdown",
   "metadata": {},
   "source": [
    "### Handling Outlier"
   ]
  },
  {
   "cell_type": "code",
   "execution_count": 1513,
   "metadata": {},
   "outputs": [
    {
     "data": {
      "text/html": [
       "<div>\n",
       "<style scoped>\n",
       "    .dataframe tbody tr th:only-of-type {\n",
       "        vertical-align: middle;\n",
       "    }\n",
       "\n",
       "    .dataframe tbody tr th {\n",
       "        vertical-align: top;\n",
       "    }\n",
       "\n",
       "    .dataframe thead th {\n",
       "        text-align: right;\n",
       "    }\n",
       "</style>\n",
       "<table border=\"1\" class=\"dataframe\">\n",
       "  <thead>\n",
       "    <tr style=\"text-align: right;\">\n",
       "      <th></th>\n",
       "      <th>nama kolom</th>\n",
       "      <th>nilai skewness</th>\n",
       "    </tr>\n",
       "  </thead>\n",
       "  <tbody>\n",
       "    <tr>\n",
       "      <th>0</th>\n",
       "      <td>BHK</td>\n",
       "      <td>0.618861</td>\n",
       "    </tr>\n",
       "    <tr>\n",
       "      <th>1</th>\n",
       "      <td>Size</td>\n",
       "      <td>2.296373</td>\n",
       "    </tr>\n",
       "    <tr>\n",
       "      <th>2</th>\n",
       "      <td>Floor</td>\n",
       "      <td>4.988326</td>\n",
       "    </tr>\n",
       "    <tr>\n",
       "      <th>3</th>\n",
       "      <td>Bathroom</td>\n",
       "      <td>1.307860</td>\n",
       "    </tr>\n",
       "  </tbody>\n",
       "</table>\n",
       "</div>"
      ],
      "text/plain": [
       "  nama kolom  nilai skewness\n",
       "0        BHK        0.618861\n",
       "1       Size        2.296373\n",
       "2      Floor        4.988326\n",
       "3   Bathroom        1.307860"
      ]
     },
     "execution_count": 1513,
     "metadata": {},
     "output_type": "execute_result"
    }
   ],
   "source": [
    "num_cols = list(X_train.select_dtypes(exclude=['object', 'datetime64[ns]']).columns)\n",
    "\n",
    "listItem= []\n",
    "\n",
    "for col in num_cols:\n",
    "  listItem.append([col, X_train[col].skew()])\n",
    "\n",
    "pd.DataFrame(columns=['nama kolom', 'nilai skewness'], data= listItem)\n"
   ]
  },
  {
   "cell_type": "markdown",
   "metadata": {},
   "source": [
    "**Insight** : Melakukan pengecekan nilai skewness pada kolom numerical dan ditemukan semua kolom numerikal bersifat skew atau tidak terdistribusi normal"
   ]
  },
  {
   "cell_type": "code",
   "execution_count": 1514,
   "metadata": {},
   "outputs": [],
   "source": [
    "def diagnostic_plots(df, variable):\n",
    "    # Define figure size\n",
    "    plt.figure(figsize=(16, 4))\n",
    "\n",
    "    # Histogram\n",
    "    plt.subplot(1, 2, 1)\n",
    "    sns.histplot(df[variable], bins=30)\n",
    "    plt.title('Histogram')\n",
    "\n",
    "    # Boxplot\n",
    "    plt.subplot(1, 2, 2)\n",
    "    sns.boxplot(y=df[variable])\n",
    "    plt.title('Boxplot')\n",
    "\n",
    "    plt.show()"
   ]
  },
  {
   "cell_type": "code",
   "execution_count": 1515,
   "metadata": {},
   "outputs": [
    {
     "name": "stdout",
     "output_type": "stream",
     "text": [
      "BHK - Before Capping\n"
     ]
    },
    {
     "data": {
      "image/png": "[encoded data removed]",
      "text/plain": [
       "<Figure size 1600x400 with 2 Axes>"
      ]
     },
     "metadata": {},
     "output_type": "display_data"
    },
    {
     "name": "stdout",
     "output_type": "stream",
     "text": [
      "Size - Before Capping\n"
     ]
    },
    {
     "data": {
      "image/png": "[encoded data removed]",
      "text/plain": [
       "<Figure size 1600x400 with 2 Axes>"
      ]
     },
     "metadata": {},
     "output_type": "display_data"
    },
    {
     "name": "stdout",
     "output_type": "stream",
     "text": [
      "Floor - Before Capping\n"
     ]
    },
    {
     "data": {
      "image/png": "[encoded data removed]",
      "text/plain": [
       "<Figure size 1600x400 with 2 Axes>"
      ]
     },
     "metadata": {},
     "output_type": "display_data"
    },
    {
     "name": "stdout",
     "output_type": "stream",
     "text": [
      "Bathroom - Before Capping\n"
     ]
    },
    {
     "data": {
      "image/png": "[encoded data removed]",
      "text/plain": [
       "<Figure size 1600x400 with 2 Axes>"
      ]
     },
     "metadata": {},
     "output_type": "display_data"
    }
   ],
   "source": [
    "# Check the distribution before capping\n",
    "for col in num_cols:\n",
    "  print(f'{col} - Before Capping')\n",
    "  diagnostic_plots(X_train, col)"
   ]
  },
  {
   "cell_type": "code",
   "execution_count": 1516,
   "metadata": {},
   "outputs": [],
   "source": [
    "# Capping the skew distribution \n",
    "\n",
    "winsoriser = Winsorizer(capping_method='iqr',\n",
    "                            tail='both',\n",
    "                            fold=1.5,\n",
    "                            variables=['BHK', 'Size', 'Floor', 'Bathroom']\n",
    "                            )\n",
    "\n",
    "X_train_capped = winsoriser.fit_transform(X_train)\n",
    "X_test_capped = winsoriser.transform(X_test)"
   ]
  },
  {
   "cell_type": "code",
   "execution_count": 1517,
   "metadata": {},
   "outputs": [
    {
     "name": "stdout",
     "output_type": "stream",
     "text": [
      "\n",
      "BHK - After Capping\n"
     ]
    },
    {
     "data": {
      "image/png": "[encoded data removed]",
      "text/plain": [
       "<Figure size 1600x400 with 2 Axes>"
      ]
     },
     "metadata": {},
     "output_type": "display_data"
    },
    {
     "name": "stdout",
     "output_type": "stream",
     "text": [
      "\n",
      "Size - After Capping\n"
     ]
    },
    {
     "data": {
      "image/png": "[encoded data removed]",
      "text/plain": [
       "<Figure size 1600x400 with 2 Axes>"
      ]
     },
     "metadata": {},
     "output_type": "display_data"
    },
    {
     "name": "stdout",
     "output_type": "stream",
     "text": [
      "\n",
      "Floor - After Capping\n"
     ]
    },
    {
     "data": {
      "image/png": "[encoded data removed]",
      "text/plain": [
       "<Figure size 1600x400 with 2 Axes>"
      ]
     },
     "metadata": {},
     "output_type": "display_data"
    },
    {
     "name": "stdout",
     "output_type": "stream",
     "text": [
      "\n",
      "Bathroom - After Capping\n"
     ]
    },
    {
     "data": {
      "image/png": "[encoded data removed]",
      "text/plain": [
       "<Figure size 1600x400 with 2 Axes>"
      ]
     },
     "metadata": {},
     "output_type": "display_data"
    }
   ],
   "source": [
    "# Check the distribution after capping\n",
    "for col in num_cols:\n",
    "  print(f'\\n{col} - After Capping')\n",
    "  diagnostic_plots(X_train_capped, col)"
   ]
  },
  {
   "cell_type": "markdown",
   "metadata": {},
   "source": [
    "### Handling Missing Value "
   ]
  },
  {
   "cell_type": "code",
   "execution_count": 1518,
   "metadata": {},
   "outputs": [
    {
     "data": {
      "text/plain": [
       "BHK                  0\n",
       "Size                 0\n",
       "Floor                0\n",
       "Area Type            0\n",
       "Area Locality        0\n",
       "City                 0\n",
       "Furnishing Status    0\n",
       "Tenant Preferred     0\n",
       "Bathroom             0\n",
       "Point of Contact     0\n",
       "dtype: int64"
      ]
     },
     "execution_count": 1518,
     "metadata": {},
     "output_type": "execute_result"
    }
   ],
   "source": [
    "X_train.isnull().sum()"
   ]
  },
  {
   "cell_type": "code",
   "execution_count": 1519,
   "metadata": {},
   "outputs": [
    {
     "data": {
      "text/plain": [
       "BHK                  0\n",
       "Size                 0\n",
       "Floor                0\n",
       "Area Type            0\n",
       "Area Locality        0\n",
       "City                 0\n",
       "Furnishing Status    0\n",
       "Tenant Preferred     0\n",
       "Bathroom             0\n",
       "Point of Contact     0\n",
       "dtype: int64"
      ]
     },
     "execution_count": 1519,
     "metadata": {},
     "output_type": "execute_result"
    }
   ],
   "source": [
    "X_test.isnull().sum()"
   ]
  },
  {
   "cell_type": "code",
   "execution_count": 1520,
   "metadata": {},
   "outputs": [
    {
     "data": {
      "text/plain": [
       "0"
      ]
     },
     "execution_count": 1520,
     "metadata": {},
     "output_type": "execute_result"
    }
   ],
   "source": [
    "y_train.isnull().sum()"
   ]
  },
  {
   "cell_type": "code",
   "execution_count": 1521,
   "metadata": {},
   "outputs": [
    {
     "data": {
      "text/plain": [
       "0"
      ]
     },
     "execution_count": 1521,
     "metadata": {},
     "output_type": "execute_result"
    }
   ],
   "source": [
    "y_test.isnull().sum()"
   ]
  },
  {
   "cell_type": "markdown",
   "metadata": {},
   "source": [
    "Tidak terdapat missing value, sehingga tidak diperlukannya action pada handling missing value"
   ]
  },
  {
   "cell_type": "markdown",
   "metadata": {},
   "source": [
    "### Feature Selection"
   ]
  },
  {
   "cell_type": "code",
   "execution_count": 1522,
   "metadata": {},
   "outputs": [
    {
     "data": {
      "text/html": [
       "<div>\n",
       "<style scoped>\n",
       "    .dataframe tbody tr th:only-of-type {\n",
       "        vertical-align: middle;\n",
       "    }\n",
       "\n",
       "    .dataframe tbody tr th {\n",
       "        vertical-align: top;\n",
       "    }\n",
       "\n",
       "    .dataframe thead th {\n",
       "        text-align: right;\n",
       "    }\n",
       "</style>\n",
       "<table border=\"1\" class=\"dataframe\">\n",
       "  <thead>\n",
       "    <tr style=\"text-align: right;\">\n",
       "      <th></th>\n",
       "      <th>BHK</th>\n",
       "      <th>Size</th>\n",
       "      <th>Floor</th>\n",
       "      <th>Area Type</th>\n",
       "      <th>Area Locality</th>\n",
       "      <th>City</th>\n",
       "      <th>Furnishing Status</th>\n",
       "      <th>Tenant Preferred</th>\n",
       "      <th>Bathroom</th>\n",
       "      <th>Point of Contact</th>\n",
       "    </tr>\n",
       "  </thead>\n",
       "  <tbody>\n",
       "    <tr>\n",
       "      <th>2506</th>\n",
       "      <td>3</td>\n",
       "      <td>75</td>\n",
       "      <td>4</td>\n",
       "      <td>Super Area</td>\n",
       "      <td>Sagar Pur</td>\n",
       "      <td>Delhi</td>\n",
       "      <td>Unfurnished</td>\n",
       "      <td>Bachelors/Family</td>\n",
       "      <td>1</td>\n",
       "      <td>Contact Owner</td>\n",
       "    </tr>\n",
       "    <tr>\n",
       "      <th>1715</th>\n",
       "      <td>1</td>\n",
       "      <td>600</td>\n",
       "      <td>1</td>\n",
       "      <td>Carpet Area</td>\n",
       "      <td>Banashankari Stage 3, Banashankari</td>\n",
       "      <td>Bangalore</td>\n",
       "      <td>Unfurnished</td>\n",
       "      <td>Bachelors</td>\n",
       "      <td>1</td>\n",
       "      <td>Contact Owner</td>\n",
       "    </tr>\n",
       "    <tr>\n",
       "      <th>236</th>\n",
       "      <td>2</td>\n",
       "      <td>839</td>\n",
       "      <td>1</td>\n",
       "      <td>Super Area</td>\n",
       "      <td>Howrah</td>\n",
       "      <td>Kolkata</td>\n",
       "      <td>Semi-Furnished</td>\n",
       "      <td>Bachelors/Family</td>\n",
       "      <td>2</td>\n",
       "      <td>Contact Owner</td>\n",
       "    </tr>\n",
       "    <tr>\n",
       "      <th>166</th>\n",
       "      <td>3</td>\n",
       "      <td>700</td>\n",
       "      <td>1</td>\n",
       "      <td>Carpet Area</td>\n",
       "      <td>Halisahar Station Road, Kanchrapara</td>\n",
       "      <td>Kolkata</td>\n",
       "      <td>Unfurnished</td>\n",
       "      <td>Family</td>\n",
       "      <td>2</td>\n",
       "      <td>Contact Owner</td>\n",
       "    </tr>\n",
       "    <tr>\n",
       "      <th>2677</th>\n",
       "      <td>2</td>\n",
       "      <td>900</td>\n",
       "      <td>3</td>\n",
       "      <td>Carpet Area</td>\n",
       "      <td>Jagriti Enclave, Anand Vihar</td>\n",
       "      <td>Delhi</td>\n",
       "      <td>Semi-Furnished</td>\n",
       "      <td>Bachelors</td>\n",
       "      <td>2</td>\n",
       "      <td>Contact Agent</td>\n",
       "    </tr>\n",
       "    <tr>\n",
       "      <th>...</th>\n",
       "      <td>...</td>\n",
       "      <td>...</td>\n",
       "      <td>...</td>\n",
       "      <td>...</td>\n",
       "      <td>...</td>\n",
       "      <td>...</td>\n",
       "      <td>...</td>\n",
       "      <td>...</td>\n",
       "      <td>...</td>\n",
       "      <td>...</td>\n",
       "    </tr>\n",
       "    <tr>\n",
       "      <th>3612</th>\n",
       "      <td>1</td>\n",
       "      <td>400</td>\n",
       "      <td>1</td>\n",
       "      <td>Super Area</td>\n",
       "      <td>Perungalathur, Chennai Bypass Road</td>\n",
       "      <td>Chennai</td>\n",
       "      <td>Semi-Furnished</td>\n",
       "      <td>Bachelors/Family</td>\n",
       "      <td>2</td>\n",
       "      <td>Contact Owner</td>\n",
       "    </tr>\n",
       "    <tr>\n",
       "      <th>4732</th>\n",
       "      <td>2</td>\n",
       "      <td>900</td>\n",
       "      <td>1</td>\n",
       "      <td>Super Area</td>\n",
       "      <td>Vinayaka Nagar</td>\n",
       "      <td>Hyderabad</td>\n",
       "      <td>Unfurnished</td>\n",
       "      <td>Bachelors/Family</td>\n",
       "      <td>1</td>\n",
       "      <td>Contact Owner</td>\n",
       "    </tr>\n",
       "    <tr>\n",
       "      <th>3349</th>\n",
       "      <td>3</td>\n",
       "      <td>1600</td>\n",
       "      <td>15</td>\n",
       "      <td>Carpet Area</td>\n",
       "      <td>Iyyappanthangal</td>\n",
       "      <td>Chennai</td>\n",
       "      <td>Semi-Furnished</td>\n",
       "      <td>Bachelors/Family</td>\n",
       "      <td>3</td>\n",
       "      <td>Contact Agent</td>\n",
       "    </tr>\n",
       "    <tr>\n",
       "      <th>3072</th>\n",
       "      <td>2</td>\n",
       "      <td>800</td>\n",
       "      <td>1</td>\n",
       "      <td>Super Area</td>\n",
       "      <td>Perungudi</td>\n",
       "      <td>Chennai</td>\n",
       "      <td>Unfurnished</td>\n",
       "      <td>Bachelors/Family</td>\n",
       "      <td>1</td>\n",
       "      <td>Contact Owner</td>\n",
       "    </tr>\n",
       "    <tr>\n",
       "      <th>3407</th>\n",
       "      <td>2</td>\n",
       "      <td>700</td>\n",
       "      <td>1</td>\n",
       "      <td>Carpet Area</td>\n",
       "      <td>Choolaimedu</td>\n",
       "      <td>Chennai</td>\n",
       "      <td>Unfurnished</td>\n",
       "      <td>Bachelors</td>\n",
       "      <td>2</td>\n",
       "      <td>Contact Agent</td>\n",
       "    </tr>\n",
       "  </tbody>\n",
       "</table>\n",
       "<p>3788 rows × 10 columns</p>\n",
       "</div>"
      ],
      "text/plain": [
       "      BHK  Size  Floor    Area Type                        Area Locality  \\\n",
       "2506    3    75      4   Super Area                            Sagar Pur   \n",
       "1715    1   600      1  Carpet Area   Banashankari Stage 3, Banashankari   \n",
       "236     2   839      1   Super Area                               Howrah   \n",
       "166     3   700      1  Carpet Area  Halisahar Station Road, Kanchrapara   \n",
       "2677    2   900      3  Carpet Area         Jagriti Enclave, Anand Vihar   \n",
       "...   ...   ...    ...          ...                                  ...   \n",
       "3612    1   400      1   Super Area   Perungalathur, Chennai Bypass Road   \n",
       "4732    2   900      1   Super Area                       Vinayaka Nagar   \n",
       "3349    3  1600     15  Carpet Area                      Iyyappanthangal   \n",
       "3072    2   800      1   Super Area                            Perungudi   \n",
       "3407    2   700      1  Carpet Area                          Choolaimedu   \n",
       "\n",
       "           City Furnishing Status  Tenant Preferred  Bathroom Point of Contact  \n",
       "2506      Delhi       Unfurnished  Bachelors/Family         1    Contact Owner  \n",
       "1715  Bangalore       Unfurnished         Bachelors         1    Contact Owner  \n",
       "236     Kolkata    Semi-Furnished  Bachelors/Family         2    Contact Owner  \n",
       "166     Kolkata       Unfurnished            Family         2    Contact Owner  \n",
       "2677      Delhi    Semi-Furnished         Bachelors         2    Contact Agent  \n",
       "...         ...               ...               ...       ...              ...  \n",
       "3612    Chennai    Semi-Furnished  Bachelors/Family         2    Contact Owner  \n",
       "4732  Hyderabad       Unfurnished  Bachelors/Family         1    Contact Owner  \n",
       "3349    Chennai    Semi-Furnished  Bachelors/Family         3    Contact Agent  \n",
       "3072    Chennai       Unfurnished  Bachelors/Family         1    Contact Owner  \n",
       "3407    Chennai       Unfurnished         Bachelors         2    Contact Agent  \n",
       "\n",
       "[3788 rows x 10 columns]"
      ]
     },
     "execution_count": 1522,
     "metadata": {},
     "output_type": "execute_result"
    }
   ],
   "source": [
    "X_train"
   ]
  },
  {
   "cell_type": "markdown",
   "metadata": {},
   "source": [
    "### Split Between Numeric columns and Categorical columns"
   ]
  },
  {
   "cell_type": "code",
   "execution_count": 1523,
   "metadata": {},
   "outputs": [
    {
     "name": "stdout",
     "output_type": "stream",
     "text": [
      "Numeric Columns:  ['BHK', 'Size', 'Floor', 'Bathroom']\n",
      "Categorical Columns:  ['Area Type', 'Area Locality', 'City', 'Furnishing Status', 'Tenant Preferred', 'Point of Contact']\n"
     ]
    }
   ],
   "source": [
    "#get numeric and categorical column\n",
    "\n",
    "num_columns = X_train.select_dtypes(include = np.number).columns.tolist()\n",
    "cat_columns = X_train.select_dtypes(include = ['object']).columns.tolist()\n",
    "\n",
    "print('Numeric Columns: ', num_columns)\n",
    "print('Categorical Columns: ', cat_columns)"
   ]
  },
  {
   "cell_type": "code",
   "execution_count": 1524,
   "metadata": {},
   "outputs": [
    {
     "data": {
      "text/html": [
       "<div>\n",
       "<style scoped>\n",
       "    .dataframe tbody tr th:only-of-type {\n",
       "        vertical-align: middle;\n",
       "    }\n",
       "\n",
       "    .dataframe tbody tr th {\n",
       "        vertical-align: top;\n",
       "    }\n",
       "\n",
       "    .dataframe thead th {\n",
       "        text-align: right;\n",
       "    }\n",
       "</style>\n",
       "<table border=\"1\" class=\"dataframe\">\n",
       "  <thead>\n",
       "    <tr style=\"text-align: right;\">\n",
       "      <th></th>\n",
       "      <th>BHK</th>\n",
       "      <th>Size</th>\n",
       "      <th>Floor</th>\n",
       "      <th>Bathroom</th>\n",
       "    </tr>\n",
       "  </thead>\n",
       "  <tbody>\n",
       "    <tr>\n",
       "      <th>2506</th>\n",
       "      <td>3</td>\n",
       "      <td>75</td>\n",
       "      <td>4</td>\n",
       "      <td>1</td>\n",
       "    </tr>\n",
       "    <tr>\n",
       "      <th>1715</th>\n",
       "      <td>1</td>\n",
       "      <td>600</td>\n",
       "      <td>1</td>\n",
       "      <td>1</td>\n",
       "    </tr>\n",
       "    <tr>\n",
       "      <th>236</th>\n",
       "      <td>2</td>\n",
       "      <td>839</td>\n",
       "      <td>1</td>\n",
       "      <td>2</td>\n",
       "    </tr>\n",
       "    <tr>\n",
       "      <th>166</th>\n",
       "      <td>3</td>\n",
       "      <td>700</td>\n",
       "      <td>1</td>\n",
       "      <td>2</td>\n",
       "    </tr>\n",
       "    <tr>\n",
       "      <th>2677</th>\n",
       "      <td>2</td>\n",
       "      <td>900</td>\n",
       "      <td>3</td>\n",
       "      <td>2</td>\n",
       "    </tr>\n",
       "    <tr>\n",
       "      <th>...</th>\n",
       "      <td>...</td>\n",
       "      <td>...</td>\n",
       "      <td>...</td>\n",
       "      <td>...</td>\n",
       "    </tr>\n",
       "    <tr>\n",
       "      <th>3612</th>\n",
       "      <td>1</td>\n",
       "      <td>400</td>\n",
       "      <td>1</td>\n",
       "      <td>2</td>\n",
       "    </tr>\n",
       "    <tr>\n",
       "      <th>4732</th>\n",
       "      <td>2</td>\n",
       "      <td>900</td>\n",
       "      <td>1</td>\n",
       "      <td>1</td>\n",
       "    </tr>\n",
       "    <tr>\n",
       "      <th>3349</th>\n",
       "      <td>3</td>\n",
       "      <td>1600</td>\n",
       "      <td>15</td>\n",
       "      <td>3</td>\n",
       "    </tr>\n",
       "    <tr>\n",
       "      <th>3072</th>\n",
       "      <td>2</td>\n",
       "      <td>800</td>\n",
       "      <td>1</td>\n",
       "      <td>1</td>\n",
       "    </tr>\n",
       "    <tr>\n",
       "      <th>3407</th>\n",
       "      <td>2</td>\n",
       "      <td>700</td>\n",
       "      <td>1</td>\n",
       "      <td>2</td>\n",
       "    </tr>\n",
       "  </tbody>\n",
       "</table>\n",
       "<p>3788 rows × 4 columns</p>\n",
       "</div>"
      ],
      "text/plain": [
       "      BHK  Size  Floor  Bathroom\n",
       "2506    3    75      4         1\n",
       "1715    1   600      1         1\n",
       "236     2   839      1         2\n",
       "166     3   700      1         2\n",
       "2677    2   900      3         2\n",
       "...   ...   ...    ...       ...\n",
       "3612    1   400      1         2\n",
       "4732    2   900      1         1\n",
       "3349    3  1600     15         3\n",
       "3072    2   800      1         1\n",
       "3407    2   700      1         2\n",
       "\n",
       "[3788 rows x 4 columns]"
      ]
     },
     "execution_count": 1524,
     "metadata": {},
     "output_type": "execute_result"
    }
   ],
   "source": [
    "# Split numerical columns and categorical columns\n",
    "\n",
    "X_train_num = X_train[num_columns]\n",
    "X_train_cat = X_train[cat_columns]\n",
    "\n",
    "X_test_num = X_test[num_columns]\n",
    "X_test_cat = X_test[cat_columns]\n",
    "\n",
    "X_train_num"
   ]
  },
  {
   "cell_type": "markdown",
   "metadata": {},
   "source": [
    "### Feature Selection"
   ]
  },
  {
   "cell_type": "code",
   "execution_count": 1525,
   "metadata": {},
   "outputs": [
    {
     "data": {
      "text/html": [
       "<div>\n",
       "<style scoped>\n",
       "    .dataframe tbody tr th:only-of-type {\n",
       "        vertical-align: middle;\n",
       "    }\n",
       "\n",
       "    .dataframe tbody tr th {\n",
       "        vertical-align: top;\n",
       "    }\n",
       "\n",
       "    .dataframe thead th {\n",
       "        text-align: right;\n",
       "    }\n",
       "</style>\n",
       "<table border=\"1\" class=\"dataframe\">\n",
       "  <thead>\n",
       "    <tr style=\"text-align: right;\">\n",
       "      <th></th>\n",
       "      <th>nama kolom</th>\n",
       "      <th>hasil</th>\n",
       "    </tr>\n",
       "  </thead>\n",
       "  <tbody>\n",
       "    <tr>\n",
       "      <th>0</th>\n",
       "      <td>Area Type</td>\n",
       "      <td>ada korelasi</td>\n",
       "    </tr>\n",
       "    <tr>\n",
       "      <th>1</th>\n",
       "      <td>Area Locality</td>\n",
       "      <td>ga ada korelasi</td>\n",
       "    </tr>\n",
       "    <tr>\n",
       "      <th>2</th>\n",
       "      <td>City</td>\n",
       "      <td>ada korelasi</td>\n",
       "    </tr>\n",
       "    <tr>\n",
       "      <th>3</th>\n",
       "      <td>Furnishing Status</td>\n",
       "      <td>ada korelasi</td>\n",
       "    </tr>\n",
       "    <tr>\n",
       "      <th>4</th>\n",
       "      <td>Tenant Preferred</td>\n",
       "      <td>ga ada korelasi</td>\n",
       "    </tr>\n",
       "    <tr>\n",
       "      <th>5</th>\n",
       "      <td>Point of Contact</td>\n",
       "      <td>ada korelasi</td>\n",
       "    </tr>\n",
       "  </tbody>\n",
       "</table>\n",
       "</div>"
      ],
      "text/plain": [
       "          nama kolom            hasil\n",
       "0          Area Type     ada korelasi\n",
       "1      Area Locality  ga ada korelasi\n",
       "2               City     ada korelasi\n",
       "3  Furnishing Status     ada korelasi\n",
       "4   Tenant Preferred  ga ada korelasi\n",
       "5   Point of Contact     ada korelasi"
      ]
     },
     "execution_count": 1525,
     "metadata": {},
     "output_type": "execute_result"
    }
   ],
   "source": [
    "# Feature selection Categorical columns\n",
    "p_values = []\n",
    "interpretasi = []\n",
    "cols = []\n",
    "\n",
    "for col in X_train_cat.columns:\n",
    "  corr_coef, p_value = kendalltau(X_train_cat[col], y_train)\n",
    "\n",
    "  p_values.append(p_value)\n",
    "  cols.append(col)\n",
    "\n",
    "  if p_value < 0.05:\n",
    "    interpretasi.append('ada korelasi')\n",
    "  else :\n",
    "    interpretasi.append('ga ada korelasi')\n",
    "\n",
    "pd.DataFrame({'nama kolom':cols,\n",
    "              'hasil': interpretasi})\n"
   ]
  },
  {
   "cell_type": "markdown",
   "metadata": {},
   "source": [
    "**Insight** : kolom categorical yang memiliki korelasi terhadap variabel prediktor `Rent` yaitu `Area Type`, `City`, `Furnishing Status`, dan `Point of Contact`"
   ]
  },
  {
   "cell_type": "code",
   "execution_count": 1526,
   "metadata": {},
   "outputs": [],
   "source": [
    "fitur_cat_terpilih = ['Area Type', 'City', 'Furnishing Status', 'Point of Contact']\n",
    "X_train_cat = X_train_cat[fitur_cat_terpilih]\n",
    "X_test_cat = X_test_cat[fitur_cat_terpilih]"
   ]
  },
  {
   "cell_type": "code",
   "execution_count": 1527,
   "metadata": {},
   "outputs": [
    {
     "data": {
      "text/html": [
       "<div>\n",
       "<style scoped>\n",
       "    .dataframe tbody tr th:only-of-type {\n",
       "        vertical-align: middle;\n",
       "    }\n",
       "\n",
       "    .dataframe tbody tr th {\n",
       "        vertical-align: top;\n",
       "    }\n",
       "\n",
       "    .dataframe thead th {\n",
       "        text-align: right;\n",
       "    }\n",
       "</style>\n",
       "<table border=\"1\" class=\"dataframe\">\n",
       "  <thead>\n",
       "    <tr style=\"text-align: right;\">\n",
       "      <th></th>\n",
       "      <th>nama kolom</th>\n",
       "      <th>hasil</th>\n",
       "    </tr>\n",
       "  </thead>\n",
       "  <tbody>\n",
       "    <tr>\n",
       "      <th>0</th>\n",
       "      <td>BHK</td>\n",
       "      <td>ada korelasi</td>\n",
       "    </tr>\n",
       "    <tr>\n",
       "      <th>1</th>\n",
       "      <td>Size</td>\n",
       "      <td>ada korelasi</td>\n",
       "    </tr>\n",
       "    <tr>\n",
       "      <th>2</th>\n",
       "      <td>Floor</td>\n",
       "      <td>ada korelasi</td>\n",
       "    </tr>\n",
       "    <tr>\n",
       "      <th>3</th>\n",
       "      <td>Bathroom</td>\n",
       "      <td>ada korelasi</td>\n",
       "    </tr>\n",
       "  </tbody>\n",
       "</table>\n",
       "</div>"
      ],
      "text/plain": [
       "  nama kolom         hasil\n",
       "0        BHK  ada korelasi\n",
       "1       Size  ada korelasi\n",
       "2      Floor  ada korelasi\n",
       "3   Bathroom  ada korelasi"
      ]
     },
     "execution_count": 1527,
     "metadata": {},
     "output_type": "execute_result"
    }
   ],
   "source": [
    "# Feature selection Numerical columns\n",
    "p_values = []\n",
    "interpretasi = []\n",
    "cols = []\n",
    "\n",
    "for col in X_train_num.columns:\n",
    "  corr_coef, p_value = spearmanr(X_train_num[col], y_train)\n",
    "\n",
    "  p_values.append(p_value)\n",
    "  cols.append(col)\n",
    "\n",
    "  if p_value < 0.05:\n",
    "    interpretasi.append('ada korelasi')\n",
    "  else :\n",
    "    interpretasi.append('ga ada korelasi')\n",
    "\n",
    "pd.DataFrame({'nama kolom':cols,\n",
    "              'hasil': interpretasi})\n"
   ]
  },
  {
   "cell_type": "markdown",
   "metadata": {},
   "source": [
    "**Insight** : kolom numerical yang memiliki korelasi terhadap variabel prediktor `Rent` yaitu `BHK`, `Size`, `Floor`, dan `Bathroom`"
   ]
  },
  {
   "cell_type": "code",
   "execution_count": 1528,
   "metadata": {},
   "outputs": [],
   "source": [
    "fitur_num_terpilih = ['BHK', 'Size', 'Bathroom', 'Floor']\n",
    "X_train_num = X_train_num[fitur_num_terpilih]\n",
    "X_test_num = X_test_num[fitur_num_terpilih]"
   ]
  },
  {
   "cell_type": "markdown",
   "metadata": {},
   "source": [
    "## Model Definiton"
   ]
  },
  {
   "cell_type": "code",
   "execution_count": 1529,
   "metadata": {},
   "outputs": [],
   "source": [
    "# Define numerical and categorical column names\n",
    "numerical_cols = X_train_num.columns.tolist()\n",
    "categorical_cols = X_train_cat.columns.tolist()\n",
    "\n",
    "# Making column transformer for preprocessing\n",
    "transformer = ColumnTransformer([\n",
    "    ('scaler', StandardScaler(), numerical_cols),\n",
    "    ('encoding', OneHotEncoder(handle_unknown='ignore'), categorical_cols)\n",
    "])\n",
    "\n",
    "#Making pipeline for KNN\n",
    "pipe_knn = Pipeline([\n",
    "    ('transformer', transformer),\n",
    "    ('Regression', KNeighborsRegressor())\n",
    "])\n",
    "\n",
    "#Making pipeline for SVM\n",
    "pipe_svm = Pipeline([\n",
    "    ('transformer', transformer),\n",
    "    ('Regression', SVR())\n",
    "])\n",
    "\n",
    "#Making pipeline for Decision Tree\n",
    "pipe_dt = Pipeline([\n",
    "    ('transformer', transformer),\n",
    "    ('Regression', DecisionTreeRegressor())\n",
    "])\n",
    "\n",
    "#Making pipeline for Random Forest\n",
    "pipe_rf = Pipeline([\n",
    "    ('transformer', transformer),\n",
    "    ('Regression', RandomForestRegressor())\n",
    "])\n",
    "\n",
    "#Making pipeline for XGBoost\n",
    "pipe_xgb = Pipeline([\n",
    "    ('transformer', transformer),\n",
    "    ('Regression', XGBRegressor())\n",
    "])\n"
   ]
  },
  {
   "cell_type": "markdown",
   "metadata": {},
   "source": [
    "## Model Training"
   ]
  },
  {
   "cell_type": "markdown",
   "metadata": {},
   "source": [
    "### KNN Regression"
   ]
  },
  {
   "cell_type": "code",
   "execution_count": 1530,
   "metadata": {},
   "outputs": [
    {
     "name": "stdout",
     "output_type": "stream",
     "text": [
      "Training Score:  0.4512\n",
      "Testing Score:  0.4256\n"
     ]
    }
   ],
   "source": [
    "# Training model KNeighborsRegressor\n",
    "pipe_knn.fit(X_train, y_train)\n",
    "\n",
    "# Evaluasi model pada data training\n",
    "train_score = pipe_knn.score(X_train, y_train)\n",
    "print('Training Score: ', round(train_score, 4))\n",
    "\n",
    "# Evaluasi model pada data testing\n",
    "test_score = pipe_knn.score(X_test, y_test)\n",
    "print('Testing Score: ', round(test_score, 4))\n"
   ]
  },
  {
   "cell_type": "code",
   "execution_count": 1531,
   "metadata": {},
   "outputs": [
    {
     "data": {
      "text/plain": [
       "array([14500.,  7400., 10500., ..., 30400., 10400., 20200.])"
      ]
     },
     "execution_count": 1531,
     "metadata": {},
     "output_type": "execute_result"
    }
   ],
   "source": [
    "# Model memprediksi data feature X train dan X test.\n",
    "\n",
    "y_pred_train_knn = pipe_knn.predict(X_train)\n",
    "y_pred_test_knn = pipe_knn.predict(X_test)\n",
    "y_pred_train_knn"
   ]
  },
  {
   "cell_type": "code",
   "execution_count": 1532,
   "metadata": {},
   "outputs": [
    {
     "name": "stdout",
     "output_type": "stream",
     "text": [
      "Nilai terkecil dari y_pred_train_knn: 3600.0\n",
      "Nilai terbesar dari y_pred_train_knn: 816000.0\n"
     ]
    }
   ],
   "source": [
    "# Hitung nilai terkecil dan terbesar dari y_pred_train_knn\n",
    "nilai_terkecil = np.min(y_pred_train_knn)\n",
    "nilai_terbesar = np.max(y_pred_train_knn)\n",
    "\n",
    "print(\"Nilai terkecil dari y_pred_train_knn:\", nilai_terkecil)\n",
    "print(\"Nilai terbesar dari y_pred_train_knn:\", nilai_terbesar)"
   ]
  },
  {
   "cell_type": "markdown",
   "metadata": {},
   "source": [
    "**Insight**                        \n",
    "Prediksi harga sewa rumah/apartment/rusun bervariasi dari sekitar 3600 hingga 816000. Rentang ini mencerminkan variasi harga yang terjadi dalam data pelatihan."
   ]
  },
  {
   "cell_type": "code",
   "execution_count": 1533,
   "metadata": {},
   "outputs": [
    {
     "name": "stdout",
     "output_type": "stream",
     "text": [
      "R-squared Score - All - Cross Validation  :  [0.04785974 0.15118365 0.41649038]\n",
      "R-squared Score - Mean - Cross Validation :  0.2051779243859632\n",
      "R-squared Score - Std - Cross Validation  :  0.15526036724737663\n",
      "R-squared Score - Range of Test-Set       :  0.04991755713858656 - 0.36043829163333985\n"
     ]
    }
   ],
   "source": [
    "# Define custom scorer using R-squared\n",
    "scorer = make_scorer(r2_score)\n",
    "\n",
    "# Cross validation with R-squared score\n",
    "r2_train_cross_val = cross_val_score(pipe_knn,\n",
    "                                     X_train,\n",
    "                                     y_train,\n",
    "                                     cv=3,\n",
    "                                     scoring=scorer)\n",
    "\n",
    "print('R-squared Score - All - Cross Validation  : ', r2_train_cross_val)\n",
    "print('R-squared Score - Mean - Cross Validation : ', r2_train_cross_val.mean())\n",
    "print('R-squared Score - Std - Cross Validation  : ', r2_train_cross_val.std())\n",
    "print('R-squared Score - Range of Test-Set       : ', (r2_train_cross_val.mean()-r2_train_cross_val.std()) , '-', (r2_train_cross_val.mean()+r2_train_cross_val.std()))\n"
   ]
  },
  {
   "cell_type": "markdown",
   "metadata": {},
   "source": [
    "**Insight** : Rata-rata dari nilai R-squared score dari semua fold dalam cross-validation. Nilai ini adalah 0.2051779243859632, yang menunjukkan bahwa secara keseluruhan, model KNN memberikan prediksi yang lebih baik daripada menggunakan mean sebagai prediksi."
   ]
  },
  {
   "cell_type": "markdown",
   "metadata": {},
   "source": [
    "### SVM Regression"
   ]
  },
  {
   "cell_type": "code",
   "execution_count": 1534,
   "metadata": {},
   "outputs": [
    {
     "name": "stdout",
     "output_type": "stream",
     "text": [
      "Training Score:  -0.0542\n",
      "Testing Score:  -0.076\n"
     ]
    }
   ],
   "source": [
    "pipe_svm.fit(X_train, y_train)\n",
    "print('Training Score: ',round(pipe_svm.score(X_train, y_train),4))\n",
    "print('Testing Score: ', round(pipe_svm.score(X_test, y_test),4))"
   ]
  },
  {
   "cell_type": "code",
   "execution_count": 1535,
   "metadata": {},
   "outputs": [
    {
     "data": {
      "text/plain": [
       "array([15796.66051863, 15620.5035997 , 15725.84202409, ...,\n",
       "       16299.34414677, 15567.28933559, 15950.25836436])"
      ]
     },
     "execution_count": 1535,
     "metadata": {},
     "output_type": "execute_result"
    }
   ],
   "source": [
    "# Model memprediksi data feature X train dan X test.\n",
    "y_pred_train_svm = pipe_svm.predict(X_train)\n",
    "y_pred_test_svm = pipe_svm.predict(X_test)\n",
    "y_pred_train_svm"
   ]
  },
  {
   "cell_type": "code",
   "execution_count": 1536,
   "metadata": {},
   "outputs": [
    {
     "name": "stdout",
     "output_type": "stream",
     "text": [
      "Nilai terkecil dari y_pred_train_svm: 15514.678981047566\n",
      "Nilai terbesar dari y_pred_train_svm: 16398.509037083735\n"
     ]
    }
   ],
   "source": [
    "# Hitung nilai terkecil dan terbesar dari y_pred_train_svm\n",
    "nilai_terkecil = np.min(y_pred_train_svm)\n",
    "nilai_terbesar = np.max(y_pred_train_svm)\n",
    "\n",
    "print(\"Nilai terkecil dari y_pred_train_svm:\", nilai_terkecil)\n",
    "print(\"Nilai terbesar dari y_pred_train_svm:\", nilai_terbesar)"
   ]
  },
  {
   "cell_type": "markdown",
   "metadata": {},
   "source": [
    "**Insight**                        \n",
    "Prediksi harga sewa rumah/apartment/rusun bervariasi dari sekitar 15514.67 hingga 16398.50. Rentang ini mencerminkan variasi harga yang terjadi dalam data pelatihan. Diketahui juga variasi harga sewa memiliki interval yang sangat kecil"
   ]
  },
  {
   "cell_type": "code",
   "execution_count": 1537,
   "metadata": {},
   "outputs": [
    {
     "name": "stdout",
     "output_type": "stream",
     "text": [
      "R-squared Score - All - Cross Validation  :  [-0.11351958 -0.03253251 -0.08364416]\n",
      "R-squared Score - Mean - Cross Validation :  -0.07656541800304735\n",
      "R-squared Score - Std - Cross Validation  :  0.03343957557406979\n",
      "R-squared Score - Range of Test-Set       :  -0.11000499357711714 - -0.04312584242897756\n"
     ]
    }
   ],
   "source": [
    "\n",
    "# Define custom scorer using R-squared\n",
    "scorer = make_scorer(r2_score)\n",
    "\n",
    "# Cross validation with R-squared score\n",
    "r2_train_cross_val = cross_val_score(pipe_svm,\n",
    "                                     X_train,\n",
    "                                     y_train,\n",
    "                                     cv=3,\n",
    "                                     scoring=scorer)\n",
    "\n",
    "print('R-squared Score - All - Cross Validation  : ', r2_train_cross_val)\n",
    "print('R-squared Score - Mean - Cross Validation : ', r2_train_cross_val.mean())\n",
    "print('R-squared Score - Std - Cross Validation  : ', r2_train_cross_val.std())\n",
    "print('R-squared Score - Range of Test-Set       : ', (r2_train_cross_val.mean()-r2_train_cross_val.std()) , '-', (r2_train_cross_val.mean()+r2_train_cross_val.std()))\n"
   ]
  },
  {
   "cell_type": "markdown",
   "metadata": {},
   "source": [
    "**Insight** : Rata-rata dari nilai R-squared score dari semua fold dalam cross-validation. Nilai ini adalah -0.07656541800304735, yang menunjukkan bahwa secara keseluruhan, model SVM memberikan prediksi yang buruk daripada menggunakan mean sebagai prediksi."
   ]
  },
  {
   "cell_type": "markdown",
   "metadata": {},
   "source": [
    "### Decision Tree Regression"
   ]
  },
  {
   "cell_type": "code",
   "execution_count": 1538,
   "metadata": {},
   "outputs": [
    {
     "name": "stdout",
     "output_type": "stream",
     "text": [
      "Training Score:  0.9914\n",
      "Testing Score:  0.4833\n"
     ]
    }
   ],
   "source": [
    "pipe_dt.fit(X_train, y_train)\n",
    "print('Training Score: ',round(pipe_dt.score(X_train, y_train),4))\n",
    "print('Testing Score: ', round(pipe_dt.score(X_test, y_test),4))"
   ]
  },
  {
   "cell_type": "code",
   "execution_count": 1539,
   "metadata": {},
   "outputs": [
    {
     "data": {
      "text/plain": [
       "array([10000.,  6500., 15000., ..., 33000., 10500., 16500.])"
      ]
     },
     "execution_count": 1539,
     "metadata": {},
     "output_type": "execute_result"
    }
   ],
   "source": [
    "# Model memprediksi data feature X train dan X test.\n",
    "\n",
    "y_pred_train_dt = pipe_dt.predict(X_train)\n",
    "y_pred_test_dt = pipe_dt.predict(X_test)\n",
    "y_pred_train_dt"
   ]
  },
  {
   "cell_type": "code",
   "execution_count": 1540,
   "metadata": {},
   "outputs": [
    {
     "name": "stdout",
     "output_type": "stream",
     "text": [
      "Nilai terkecil dari y_pred_train_dt: 1200.0\n",
      "Nilai terbesar dari y_pred_train_dt: 3500000.0\n"
     ]
    }
   ],
   "source": [
    "# Hitung nilai terkecil dan terbesar dari y_pred_train_dt\n",
    "nilai_terkecil = np.min(y_pred_train_dt)\n",
    "nilai_terbesar = np.max(y_pred_train_dt)\n",
    "\n",
    "print(\"Nilai terkecil dari y_pred_train_dt:\", nilai_terkecil)\n",
    "print(\"Nilai terbesar dari y_pred_train_dt:\", nilai_terbesar)"
   ]
  },
  {
   "cell_type": "markdown",
   "metadata": {},
   "source": [
    "**Insight**                        \n",
    "Prediksi harga sewa rumah/apartment/rusun bervariasi dari sekitar 1200 hingga 3500000. Rentang ini mencerminkan variasi harga yang terjadi dalam data pelatihan."
   ]
  },
  {
   "cell_type": "code",
   "execution_count": 1541,
   "metadata": {},
   "outputs": [
    {
     "name": "stdout",
     "output_type": "stream",
     "text": [
      "R-squared Score - All - Cross Validation  :  [-4.97728569  0.10310273  0.64374694]\n",
      "R-squared Score - Mean - Cross Validation :  -1.4101453408250484\n",
      "R-squared Score - Std - Cross Validation  :  2.531987589210565\n",
      "R-squared Score - Range of Test-Set       :  -3.942132930035614 - 1.1218422483855168\n"
     ]
    }
   ],
   "source": [
    "# Define custom scorer using R-squared\n",
    "scorer = make_scorer(r2_score)\n",
    "\n",
    "# Cross validation with R-squared score\n",
    "r2_train_cross_val = cross_val_score(pipe_dt,\n",
    "                                     X_train,\n",
    "                                     y_train,\n",
    "                                     cv=3,\n",
    "                                     scoring=scorer)\n",
    "\n",
    "print('R-squared Score - All - Cross Validation  : ', r2_train_cross_val)\n",
    "print('R-squared Score - Mean - Cross Validation : ', r2_train_cross_val.mean())\n",
    "print('R-squared Score - Std - Cross Validation  : ', r2_train_cross_val.std())\n",
    "print('R-squared Score - Range of Test-Set       : ', (r2_train_cross_val.mean()-r2_train_cross_val.std()) , '-', (r2_train_cross_val.mean()+r2_train_cross_val.std()))\n"
   ]
  },
  {
   "cell_type": "markdown",
   "metadata": {},
   "source": [
    "**Insight** : Rata-rata dari nilai R-squared score dari semua fold dalam cross-validation. Nilai ini adalah -2.2457327294257716, yang menunjukkan bahwa secara keseluruhan, model Decision Tree memberikan prediksi yang buruk daripada menggunakan mean sebagai prediksi."
   ]
  },
  {
   "cell_type": "markdown",
   "metadata": {},
   "source": [
    "### Random Forest Regression"
   ]
  },
  {
   "cell_type": "code",
   "execution_count": 1542,
   "metadata": {},
   "outputs": [
    {
     "name": "stdout",
     "output_type": "stream",
     "text": [
      "Training Score:  0.8823\n",
      "Testing Score:  0.7176\n"
     ]
    }
   ],
   "source": [
    "pipe_rf.fit(X_train, y_train)\n",
    "print('Training Score: ',round(pipe_rf.score(X_train, y_train),4))\n",
    "print('Testing Score: ', round(pipe_rf.score(X_test, y_test),4))"
   ]
  },
  {
   "cell_type": "code",
   "execution_count": 1543,
   "metadata": {},
   "outputs": [
    {
     "data": {
      "text/plain": [
       "array([11085.01      ,  7255.40909091, 13670.        , ...,\n",
       "       37595.        , 10217.99206349, 16027.        ])"
      ]
     },
     "execution_count": 1543,
     "metadata": {},
     "output_type": "execute_result"
    }
   ],
   "source": [
    "# Model memprediksi data feature X train dan X test.\n",
    "\n",
    "y_pred_train_rf = pipe_rf.predict(X_train)\n",
    "y_pred_test_rf = pipe_rf.predict(X_test)\n",
    "y_pred_train_rf"
   ]
  },
  {
   "cell_type": "code",
   "execution_count": 1544,
   "metadata": {},
   "outputs": [
    {
     "name": "stdout",
     "output_type": "stream",
     "text": [
      "Nilai terkecil dari y_pred_train_rf: 3062.0\n",
      "Nilai terbesar dari y_pred_train_rf: 2236555.0\n"
     ]
    }
   ],
   "source": [
    "# Hitung nilai terkecil dan terbesar dari y_pred_train_rf\n",
    "nilai_terkecil = np.min(y_pred_train_rf)\n",
    "nilai_terbesar = np.max(y_pred_train_rf)\n",
    "\n",
    "print(\"Nilai terkecil dari y_pred_train_rf:\", nilai_terkecil)\n",
    "print(\"Nilai terbesar dari y_pred_train_rf:\", nilai_terbesar)"
   ]
  },
  {
   "cell_type": "markdown",
   "metadata": {},
   "source": [
    "**Insight**                        \n",
    "Prediksi harga sewa rumah/apartment/rusun bervariasi dari sekitar 2527 hingga 2103165. Rentang ini mencerminkan variasi harga yang terjadi dalam data pelatihan."
   ]
  },
  {
   "cell_type": "code",
   "execution_count": 1545,
   "metadata": {},
   "outputs": [
    {
     "name": "stdout",
     "output_type": "stream",
     "text": [
      "R-squared Score - All - Cross Validation  :  [-0.80381537  0.1729604   0.71233493]\n",
      "R-squared Score - Mean - Cross Validation :  0.02715998624190648\n",
      "R-squared Score - Std - Cross Validation  :  0.6274930296157257\n",
      "R-squared Score - Range of Test-Set       :  -0.6003330433738192 - 0.6546530158576322\n"
     ]
    }
   ],
   "source": [
    "# Define custom scorer using R-squared\n",
    "scorer = make_scorer(r2_score)\n",
    "\n",
    "# Cross validation with R-squared score\n",
    "r2_train_cross_val = cross_val_score(pipe_rf,\n",
    "                                     X_train,\n",
    "                                     y_train,\n",
    "                                     cv=3,\n",
    "                                     scoring=scorer)\n",
    "\n",
    "print('R-squared Score - All - Cross Validation  : ', r2_train_cross_val)\n",
    "print('R-squared Score - Mean - Cross Validation : ', r2_train_cross_val.mean())\n",
    "print('R-squared Score - Std - Cross Validation  : ', r2_train_cross_val.std())\n",
    "print('R-squared Score - Range of Test-Set       : ', (r2_train_cross_val.mean()-r2_train_cross_val.std()) , '-', (r2_train_cross_val.mean()+r2_train_cross_val.std()))\n"
   ]
  },
  {
   "cell_type": "markdown",
   "metadata": {},
   "source": [
    "**Insight** : Rata-rata dari nilai R-squared score dari semua fold dalam cross-validation. Nilai ini adalah -0.13682628876114208, yang menunjukkan bahwa secara keseluruhan, model Random Forest memberikan prediksi yang buruk daripada menggunakan mean sebagai prediksi."
   ]
  },
  {
   "cell_type": "markdown",
   "metadata": {},
   "source": [
    "### XGBoost"
   ]
  },
  {
   "cell_type": "code",
   "execution_count": 1546,
   "metadata": {},
   "outputs": [
    {
     "name": "stdout",
     "output_type": "stream",
     "text": [
      "Training Score:  0.981\n",
      "Testing Score:  0.7767\n"
     ]
    }
   ],
   "source": [
    "pipe_xgb.fit(X_train, y_train)\n",
    "print('Training Score: ',round(pipe_xgb.score(X_train, y_train),4))\n",
    "print('Testing Score: ', round(pipe_xgb.score(X_test, y_test),4))"
   ]
  },
  {
   "cell_type": "code",
   "execution_count": 1547,
   "metadata": {},
   "outputs": [
    {
     "data": {
      "text/plain": [
       "array([10848.344,  8329.513, 10430.36 , ..., 31658.121,  8905.744,\n",
       "       15494.577], dtype=float32)"
      ]
     },
     "execution_count": 1547,
     "metadata": {},
     "output_type": "execute_result"
    }
   ],
   "source": [
    "# Model memprediksi data feature X train dan X test.\n",
    "\n",
    "y_pred_train_xgb = pipe_xgb.predict(X_train)\n",
    "y_pred_test_xgb = pipe_xgb.predict(X_test)\n",
    "y_pred_train_xgb"
   ]
  },
  {
   "cell_type": "code",
   "execution_count": 1548,
   "metadata": {},
   "outputs": [
    {
     "name": "stdout",
     "output_type": "stream",
     "text": [
      "Nilai terkecil dari y_pred_train_xgb: 3413.4465\n",
      "Nilai terbesar dari y_pred_train_xgb: 3427200.2\n"
     ]
    }
   ],
   "source": [
    "# Hitung nilai terkecil dan terbesar dari y_pred_train_xgb\n",
    "nilai_terkecil = np.min(y_pred_train_xgb)\n",
    "nilai_terbesar = np.max(y_pred_train_xgb)\n",
    "\n",
    "print(\"Nilai terkecil dari y_pred_train_xgb:\", nilai_terkecil)\n",
    "print(\"Nilai terbesar dari y_pred_train_xgb:\", nilai_terbesar)"
   ]
  },
  {
   "cell_type": "markdown",
   "metadata": {},
   "source": [
    "**Insight**                        \n",
    "Prediksi harga sewa rumah/apartment/rusun bervariasi dari sekitar 3413 hingga 3427200. Rentang ini mencerminkan variasi harga yang terjadi dalam data pelatihan."
   ]
  },
  {
   "cell_type": "code",
   "execution_count": 1549,
   "metadata": {},
   "outputs": [
    {
     "name": "stdout",
     "output_type": "stream",
     "text": [
      "R-squared Score - All - Cross Validation  :  [-7.59191433  0.13556526  0.70745583]\n",
      "R-squared Score - Mean - Cross Validation :  -2.2496310822126495\n",
      "R-squared Score - Std - Cross Validation  :  3.7847727777662943\n",
      "R-squared Score - Range of Test-Set       :  -6.034403859978944 - 1.5351416955536448\n"
     ]
    }
   ],
   "source": [
    "# Define custom scorer using R-squared\n",
    "scorer = make_scorer(r2_score)\n",
    "\n",
    "# Cross validation with R-squared score\n",
    "r2_train_cross_val = cross_val_score(pipe_xgb,\n",
    "                                     X_train,\n",
    "                                     y_train,\n",
    "                                     cv=3,\n",
    "                                     scoring=scorer)\n",
    "\n",
    "print('R-squared Score - All - Cross Validation  : ', r2_train_cross_val)\n",
    "print('R-squared Score - Mean - Cross Validation : ', r2_train_cross_val.mean())\n",
    "print('R-squared Score - Std - Cross Validation  : ', r2_train_cross_val.std())\n",
    "print('R-squared Score - Range of Test-Set       : ', (r2_train_cross_val.mean()-r2_train_cross_val.std()) , '-', (r2_train_cross_val.mean()+r2_train_cross_val.std()))\n"
   ]
  },
  {
   "cell_type": "markdown",
   "metadata": {},
   "source": [
    "**Insight** : Rata-rata dari nilai R-squared score dari semua fold dalam cross-validation. Nilai ini adalah -2.2496310822126495, yang menunjukkan bahwa secara keseluruhan, model XGBoost memberikan prediksi yang buruk daripada menggunakan mean sebagai prediksi."
   ]
  },
  {
   "cell_type": "markdown",
   "metadata": {},
   "source": [
    "## Model Evaluation"
   ]
  },
  {
   "cell_type": "code",
   "execution_count": 1550,
   "metadata": {},
   "outputs": [
    {
     "data": {
      "text/html": [
       "<div>\n",
       "<style scoped>\n",
       "    .dataframe tbody tr th:only-of-type {\n",
       "        vertical-align: middle;\n",
       "    }\n",
       "\n",
       "    .dataframe tbody tr th {\n",
       "        vertical-align: top;\n",
       "    }\n",
       "\n",
       "    .dataframe thead th {\n",
       "        text-align: right;\n",
       "    }\n",
       "</style>\n",
       "<table border=\"1\" class=\"dataframe\">\n",
       "  <thead>\n",
       "    <tr style=\"text-align: right;\">\n",
       "      <th></th>\n",
       "      <th>KNN Regression</th>\n",
       "      <th>SVM Regression</th>\n",
       "      <th>Decision Tree</th>\n",
       "      <th>Random Forest</th>\n",
       "      <th>XGBoost</th>\n",
       "    </tr>\n",
       "  </thead>\n",
       "  <tbody>\n",
       "    <tr>\n",
       "      <th>Root Mean Squared Error</th>\n",
       "      <td>50206.96344</td>\n",
       "      <td>68717.722397</td>\n",
       "      <td>47617.101289</td>\n",
       "      <td>35205.414079</td>\n",
       "      <td>31301.362772</td>\n",
       "    </tr>\n",
       "    <tr>\n",
       "      <th>R2 Score</th>\n",
       "      <td>0.42562</td>\n",
       "      <td>-0.075991</td>\n",
       "      <td>0.483349</td>\n",
       "      <td>0.717583</td>\n",
       "      <td>0.776747</td>\n",
       "    </tr>\n",
       "  </tbody>\n",
       "</table>\n",
       "</div>"
      ],
      "text/plain": [
       "                        KNN Regression SVM Regression Decision Tree  \\\n",
       "Root Mean Squared Error    50206.96344   68717.722397  47617.101289   \n",
       "R2 Score                       0.42562      -0.075991      0.483349   \n",
       "\n",
       "                        Random Forest       XGBoost  \n",
       "Root Mean Squared Error  35205.414079  31301.362772  \n",
       "R2 Score                     0.717583      0.776747  "
      ]
     },
     "execution_count": 1550,
     "metadata": {},
     "output_type": "execute_result"
    }
   ],
   "source": [
    "models = {\n",
    "    'KNN Regression' : pipe_knn,\n",
    "    'SVM Regression' : pipe_svm,\n",
    "    'Decision Tree' : pipe_dt,\n",
    "    'Random Forest' : pipe_rf,\n",
    "    'XGBoost' : pipe_xgb\n",
    "}\n",
    "\n",
    "# Define the metrics\n",
    "metrics = {\n",
    "    'Root Mean Squared Error': lambda y_true, y_pred: np.sqrt(mean_squared_error(y_true, y_pred)),\n",
    "    'R2 Score': r2_score,\n",
    "}\n",
    "\n",
    "# Initialize the DataFrame to store the results\n",
    "df_model = pd.DataFrame(columns=models.keys(), index=metrics.keys())\n",
    "\n",
    "# Calculate the metrics for each model\n",
    "for metric_name, metric_func in metrics.items():\n",
    "    for model_name, model in models.items():\n",
    "        # Calculate the metric\n",
    "        df_model.loc[metric_name, model_name] = metric_func(y_test, model.predict(X_test))\n",
    "\n",
    "# Display the results\n",
    "df_model"
   ]
  },
  {
   "cell_type": "markdown",
   "metadata": {},
   "source": [
    "**Insight** : Diketahui model yang memungkinkan untuk memprediksi variabel prediktor yaitu memiliki nilai RMSE yang lebih rendah dan nilai R2 Score yang mendekati 1, yaitu XGBoost, akantetapi dilihat dari Cross validation XGBoost memiliki prediksi yang cukup buruk, dan satu satunya memiliki nilai tidak minus yaitu KNN, sehingga ditetapkan penggunaan model KNN"
   ]
  },
  {
   "cell_type": "code",
   "execution_count": 1551,
   "metadata": {},
   "outputs": [
    {
     "name": "stdout",
     "output_type": "stream",
     "text": [
      "Train RMSE: 11128.034014067425\n",
      "Test RMSE: 31301.36277193847\n",
      "Train Set Score: 0.9810491238334185\n",
      "Test Set Score: 0.7767467359441516\n"
     ]
    }
   ],
   "source": [
    "# Hitung MSE untuk data pelatihan\n",
    "train_mse = mean_squared_error(y_train, model.predict(X_train))\n",
    "\n",
    "# Hitung MSE untuk data uji\n",
    "test_mse = mean_squared_error(y_test, model.predict(X_test))\n",
    "\n",
    "# Hitung RMSE untuk data pelatihan\n",
    "train_rmse = np.sqrt(train_mse)\n",
    "\n",
    "# Hitung RMSE untuk data uji\n",
    "test_rmse = np.sqrt(test_mse)\n",
    "\n",
    "r2_train = model.score(X_train, y_train)\n",
    "r2_test = model.score(X_test, y_test)\n",
    "\n",
    "print(\"Train RMSE:\", train_rmse)\n",
    "print(\"Test RMSE:\", test_rmse)\n",
    "\n",
    "print(\"Train Set Score:\", r2_train)\n",
    "print(\"Test Set Score:\", r2_test)\n"
   ]
  },
  {
   "cell_type": "markdown",
   "metadata": {},
   "source": [
    "- Root Mean Squared Error (RMSE):                                   \n",
    "`Error RMSE pada set pelatihan adalah sekitar 11128.03, sedangkan pada set pengujian sekitar 31301.36.`\n",
    "Ini menunjukkan bahwa rata-rata selisih squared antara prediksi harga sewa dan nilai sebenarnya adalah sekitar 11128.03 pada set pelatihan dan 31301.36 pada set pengujian.\n",
    "Semakin rendah nilai RMSE, semakin baik kinerja model dalam melakukan prediksi harga sewa.                       \n",
    "\n",
    "- Nilai R-squared (R2):                                                      \n",
    "`Nilai R-squared pada set pelatihan adalah sekitar 0.981, sedangkan pada set pengujian sekitar 0.776.`\n",
    "R-squared mengukur seberapa baik variabilitas dalam data target dapat dijelaskan oleh model. Nilai mendekati 1 menunjukkan bahwa model mampu menjelaskan sebagian besar variasi dalam data target.\n",
    "Jika dilihat dari data Y target, error ini dapat diterima karena sesuai dengan prediksi yang diinginkan. Hal ini sejalan dengan nilai R2 scrore model ini sebesar 0.981 pada train set dan 0.776 pada test set. Nilai ini bagus karena mendekati nilai 1 untuk R2 score.  "
   ]
  },
  {
   "cell_type": "markdown",
   "metadata": {},
   "source": [
    "## Model Optimization"
   ]
  },
  {
   "cell_type": "code",
   "execution_count": 1552,
   "metadata": {},
   "outputs": [
    {
     "name": "stdout",
     "output_type": "stream",
     "text": [
      "R2 Score of Best KNN Model: 0.49731911955169994\n"
     ]
    }
   ],
   "source": [
    "# Define grid parameter for KNN\n",
    "param_grid_knn = {\n",
    "    'Regression__n_neighbors': [3, 5, 7],  # Contoh nilai yang mungkin untuk n_neighbors,\n",
    "}\n",
    "\n",
    "# Create KNN pipeline\n",
    "pipe_knn = Pipeline([\n",
    "    ('transformer', transformer),\n",
    "    ('Regression', KNeighborsRegressor())\n",
    "])\n",
    "\n",
    "# Perform Grid Search Cross-Validation for KNN\n",
    "grid_search_knn = GridSearchCV(pipe_knn, param_grid=param_grid_knn, cv=3)\n",
    "grid_search_knn.fit(X_train, y_train)\n",
    "\n",
    "# Get the best parameters and best estimator for KNN\n",
    "best_params_knn = grid_search_knn.best_params_\n",
    "best_model_knn = grid_search_knn.best_estimator_\n",
    "\n",
    "# Evaluate the best model\n",
    "r2_score_best = best_model_knn.score(X_test, y_test)\n",
    "print(\"R2 Score of Best KNN Model:\", r2_score_best)\n"
   ]
  },
  {
   "cell_type": "code",
   "execution_count": 1553,
   "metadata": {},
   "outputs": [
    {
     "name": "stdout",
     "output_type": "stream",
     "text": [
      "Train Set Score :  0.41972150863972457\n",
      "Test Set Score :  0.49731911955169994\n"
     ]
    }
   ],
   "source": [
    "print('Train Set Score : ', grid_search_knn.score(X_train, y_train))\n",
    "print('Test Set Score : ', grid_search_knn.score(X_test, y_test))"
   ]
  },
  {
   "cell_type": "markdown",
   "metadata": {},
   "source": [
    "**Insight** : \n",
    "\n",
    "Sebelum Hyperparameter tuning \n",
    "- Training Score:  0.4512 \n",
    "- Testing Score:  0.4256 \n",
    "\n",
    "Setelah Hyperparameter tuning \n",
    "- Train Set Score :  0.41972150863972457 \n",
    "- Test Set Score :  0.49731911955169994 "
   ]
  },
  {
   "cell_type": "markdown",
   "metadata": {},
   "source": [
    "### Model After Tuning Comparison"
   ]
  },
  {
   "cell_type": "code",
   "execution_count": 1554,
   "metadata": {},
   "outputs": [
    {
     "data": {
      "text/html": [
       "<div>\n",
       "<style scoped>\n",
       "    .dataframe tbody tr th:only-of-type {\n",
       "        vertical-align: middle;\n",
       "    }\n",
       "\n",
       "    .dataframe tbody tr th {\n",
       "        vertical-align: top;\n",
       "    }\n",
       "\n",
       "    .dataframe thead th {\n",
       "        text-align: right;\n",
       "    }\n",
       "</style>\n",
       "<table border=\"1\" class=\"dataframe\">\n",
       "  <thead>\n",
       "    <tr style=\"text-align: right;\">\n",
       "      <th></th>\n",
       "      <th>Random Forest</th>\n",
       "    </tr>\n",
       "  </thead>\n",
       "  <tbody>\n",
       "    <tr>\n",
       "      <th>Root Mean Squared Error</th>\n",
       "      <td>46968.914235</td>\n",
       "    </tr>\n",
       "    <tr>\n",
       "      <th>R2 Score</th>\n",
       "      <td>0.497319</td>\n",
       "    </tr>\n",
       "  </tbody>\n",
       "</table>\n",
       "</div>"
      ],
      "text/plain": [
       "                        Random Forest\n",
       "Root Mean Squared Error  46968.914235\n",
       "R2 Score                     0.497319"
      ]
     },
     "execution_count": 1554,
     "metadata": {},
     "output_type": "execute_result"
    }
   ],
   "source": [
    "models = {\n",
    "    'Random Forest' : best_model_knn\n",
    "}\n",
    "\n",
    "metrics = {\n",
    "    'Root Mean Squared Error' : lambda y_true, y_pred: np.sqrt(mean_squared_error(y_true, y_pred)),\n",
    "    'R2 Score' : r2_score,\n",
    "}\n",
    "\n",
    "df_model_tuning = pd.DataFrame(columns=models.keys(), index=metrics.keys())\n",
    "\n",
    "for metric_name, metric_func in metrics.items():\n",
    "    for model_name, model in models.items():\n",
    "        df_model_tuning.loc[metric_name, model_name] = metric_func(y_test, model.predict(X_test))\n",
    "\n",
    "df_model_tuning"
   ]
  },
  {
   "cell_type": "code",
   "execution_count": 1555,
   "metadata": {},
   "outputs": [
    {
     "data": {
      "text/html": [
       "<div>\n",
       "<style scoped>\n",
       "    .dataframe tbody tr th:only-of-type {\n",
       "        vertical-align: middle;\n",
       "    }\n",
       "\n",
       "    .dataframe tbody tr th {\n",
       "        vertical-align: top;\n",
       "    }\n",
       "\n",
       "    .dataframe thead th {\n",
       "        text-align: right;\n",
       "    }\n",
       "</style>\n",
       "<table border=\"1\" class=\"dataframe\">\n",
       "  <thead>\n",
       "    <tr style=\"text-align: right;\">\n",
       "      <th></th>\n",
       "      <th>KNN Regression</th>\n",
       "      <th>SVM Regression</th>\n",
       "      <th>Decision Tree</th>\n",
       "      <th>Random Forest</th>\n",
       "      <th>XGBoost</th>\n",
       "    </tr>\n",
       "  </thead>\n",
       "  <tbody>\n",
       "    <tr>\n",
       "      <th>Root Mean Squared Error</th>\n",
       "      <td>50206.96344</td>\n",
       "      <td>68717.722397</td>\n",
       "      <td>47617.101289</td>\n",
       "      <td>35205.414079</td>\n",
       "      <td>31301.362772</td>\n",
       "    </tr>\n",
       "    <tr>\n",
       "      <th>R2 Score</th>\n",
       "      <td>0.42562</td>\n",
       "      <td>-0.075991</td>\n",
       "      <td>0.483349</td>\n",
       "      <td>0.717583</td>\n",
       "      <td>0.776747</td>\n",
       "    </tr>\n",
       "  </tbody>\n",
       "</table>\n",
       "</div>"
      ],
      "text/plain": [
       "                        KNN Regression SVM Regression Decision Tree  \\\n",
       "Root Mean Squared Error    50206.96344   68717.722397  47617.101289   \n",
       "R2 Score                       0.42562      -0.075991      0.483349   \n",
       "\n",
       "                        Random Forest       XGBoost  \n",
       "Root Mean Squared Error  35205.414079  31301.362772  \n",
       "R2 Score                     0.717583      0.776747  "
      ]
     },
     "execution_count": 1555,
     "metadata": {},
     "output_type": "execute_result"
    }
   ],
   "source": [
    "df_model"
   ]
  },
  {
   "cell_type": "code",
   "execution_count": 1556,
   "metadata": {},
   "outputs": [
    {
     "data": {
      "text/html": [
       "<div>\n",
       "<style scoped>\n",
       "    .dataframe tbody tr th:only-of-type {\n",
       "        vertical-align: middle;\n",
       "    }\n",
       "\n",
       "    .dataframe tbody tr th {\n",
       "        vertical-align: top;\n",
       "    }\n",
       "\n",
       "    .dataframe thead th {\n",
       "        text-align: right;\n",
       "    }\n",
       "</style>\n",
       "<table border=\"1\" class=\"dataframe\">\n",
       "  <thead>\n",
       "    <tr style=\"text-align: right;\">\n",
       "      <th></th>\n",
       "      <th>Random Forest</th>\n",
       "    </tr>\n",
       "  </thead>\n",
       "  <tbody>\n",
       "    <tr>\n",
       "      <th>Root Mean Squared Error</th>\n",
       "      <td>46968.914235</td>\n",
       "    </tr>\n",
       "    <tr>\n",
       "      <th>R2 Score</th>\n",
       "      <td>0.497319</td>\n",
       "    </tr>\n",
       "  </tbody>\n",
       "</table>\n",
       "</div>"
      ],
      "text/plain": [
       "                        Random Forest\n",
       "Root Mean Squared Error  46968.914235\n",
       "R2 Score                     0.497319"
      ]
     },
     "execution_count": 1556,
     "metadata": {},
     "output_type": "execute_result"
    }
   ],
   "source": [
    "df_model_tuning"
   ]
  },
  {
   "cell_type": "markdown",
   "metadata": {},
   "source": [
    "## Model Saving"
   ]
  },
  {
   "cell_type": "code",
   "execution_count": 1557,
   "metadata": {},
   "outputs": [],
   "source": [
    "# Save list kolom kategorikal\n",
    "with open('list_cat_cols.txt', 'w') as file_1:\n",
    "  json.dump(fitur_cat_terpilih, file_1)\n",
    "\n",
    "# Save list kolom numerikal\n",
    "with open('list_num_cols.txt', 'w') as file_2:\n",
    "  json.dump(fitur_num_terpilih, file_2)\n",
    "\n",
    "# Save model predict (KNN)\n",
    "with open('model_knn.pkl', 'wb') as file_3:\n",
    "  pickle.dump(best_model_knn, file_3)"
   ]
  },
  {
   "cell_type": "markdown",
   "metadata": {},
   "source": [
    "## Pengambilan Kesimpulan"
   ]
  },
  {
   "cell_type": "markdown",
   "metadata": {},
   "source": [
    "- Diketahui dari beberapa ensamble learning yang dilakukan untuk prediksi harga  sewa didapatkan model yang terbaik yaitu KNN, dikarenakan selisih train set dan test set yang tidak terlalu jauh dan dapat dikatakan goodfit, kemudian diketahui juga hasil dari cross validation hanya model KNN yang memiliki R2-score mean cross validation yang bernilai (+), selain model KNN memiliki nilai R2-score mean cross validation yang bernilai (-). Karena, nilai R2-score mean cross validation yang bernilai (-) sangat tidak cocok untuk pemodelan prediksi harga sewa \n",
    "- Diketahui dari model inference semakin tinggi nilai `BHK` semakin naik juga prediksi harga sewa\n",
    "- Diketahui dari model inference semakin tinggi nilai `Size` semakin naik juga prediksi harga sewa\n",
    "- Diketahui dari model inference semakin tinggi nilai `Floor` semakin turun juga prediksi harga sewa\n",
    "- Diketahui dari model inference semakin tinggi nilai `Bathroom` semakin naik juga prediksi harga sewa"
   ]
  },
  {
   "cell_type": "markdown",
   "metadata": {},
   "source": [
    "## Conceptual Problem"
   ]
  },
  {
   "cell_type": "markdown",
   "metadata": {},
   "source": [
    "1. Dengan bagging teknik ensambel yang digunakan dalam pembelajaran mesin untuk meningkatkan kinerja model prediktif, dan tujuannya untuk mengurangi varians model, yang dapat menghasilkan model yang lebih stabil dan umumnya lebih baik dalam melakukan prediksi. Cara kerja bagging, yaiut dengan pembuatan banyak model, kemudian pemilihan sampel, lalu membuat prediksi, dan terakhir melakukan aggregasi prediksi\n",
    "\n",
    "2. Cara kerja Random forest dilakukan secara paralel, karena setiap pohon dapat dibangun secara independen satu sama lain dengan membangun banyak pohon keputusan secara independen dan kemudian menggabungkan hasil prediksi dari semua pohon untuk membuat prediksi akhir. Sedangkan, KNN Regresi bekerja dengan cara membangun serangkaian model prediktif yang lemah dan kemudian menggabungkan prediksi mereka untuk membuat prediksi yang lebih kuat.\n",
    "\n",
    "3. Cross-validation adalah teknik evaluasi dalam machine learning di mana dataset dibagi menjadi subset yang lebih kecil. Setiap subset digunakan secara bergantian sebagai data pelatihan dan pengujian untuk melatih model machine learning. Hal ini membantu dalam menguji kinerja model secara lebih konsisten dan menghindari bias yang mungkin timbul dari pemisahan data tunggal untuk pelatihan dan pengujian."
   ]
  }
 ],
 "metadata": {
  "kernelspec": {
   "display_name": "Hacktiv8",
   "language": "python",
   "name": "python3"
  },
  "language_info": {
   "codemirror_mode": {
    "name": "ipython",
    "version": 3
   },
   "file_extension": ".py",
   "mimetype": "text/x-python",
   "name": "python",
   "nbconvert_exporter": "python",
   "pygments_lexer": "ipython3",
   "version": "3.11.7"
  }
 },
 "nbformat": 4,
 "nbformat_minor": 2
}
