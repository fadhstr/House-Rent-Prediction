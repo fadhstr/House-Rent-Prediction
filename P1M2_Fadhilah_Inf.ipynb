{
 "cells": [
  {
   "cell_type": "markdown",
   "metadata": {},
   "source": [
    "# Model Inference"
   ]
  },
  {
   "cell_type": "markdown",
   "metadata": {},
   "source": [
    "## Import Libraries"
   ]
  },
  {
   "cell_type": "code",
   "execution_count": 1,
   "metadata": {},
   "outputs": [],
   "source": [
    "# Libraries for Data Manipulation\n",
    "import pandas as pd\n",
    "# Libraries for saving\n",
    "import pickle\n",
    "import json"
   ]
  },
  {
   "cell_type": "markdown",
   "metadata": {},
   "source": [
    "## Load Model"
   ]
  },
  {
   "cell_type": "code",
   "execution_count": 3,
   "metadata": {},
   "outputs": [],
   "source": [
    "# Load model and other files\n",
    "with open('model_knn.pkl', 'rb') as file_1:\n",
    "  model_knn_inf = pickle.load(file_1)\n",
    "\n",
    "# Load list kolom numerikal\n",
    "with open('list_num_cols.txt', 'r') as file_2:\n",
    "  num_cols_inf = json.load(file_2)\n",
    "\n",
    "# Load list kolom kategorikal from JSON file\n",
    "with open('list_cat_cols.txt', 'r') as file_3:\n",
    "  cat_cols_inf = json.load(file_3)"
   ]
  },
  {
   "cell_type": "code",
   "execution_count": 4,
   "metadata": {},
   "outputs": [
    {
     "data": {
      "text/html": [
       "<div>\n",
       "<style scoped>\n",
       "    .dataframe tbody tr th:only-of-type {\n",
       "        vertical-align: middle;\n",
       "    }\n",
       "\n",
       "    .dataframe tbody tr th {\n",
       "        vertical-align: top;\n",
       "    }\n",
       "\n",
       "    .dataframe thead th {\n",
       "        text-align: right;\n",
       "    }\n",
       "</style>\n",
       "<table border=\"1\" class=\"dataframe\">\n",
       "  <thead>\n",
       "    <tr style=\"text-align: right;\">\n",
       "      <th></th>\n",
       "      <th>BHK</th>\n",
       "      <th>Rent</th>\n",
       "      <th>Size</th>\n",
       "      <th>Floor</th>\n",
       "      <th>Area Type</th>\n",
       "      <th>Area Locality</th>\n",
       "      <th>City</th>\n",
       "      <th>Furnishing Status</th>\n",
       "      <th>Tenant Preferred</th>\n",
       "      <th>Bathroom</th>\n",
       "      <th>Point of Contact</th>\n",
       "    </tr>\n",
       "  </thead>\n",
       "  <tbody>\n",
       "    <tr>\n",
       "      <th>0</th>\n",
       "      <td>2</td>\n",
       "      <td>15000</td>\n",
       "      <td>750</td>\n",
       "      <td>1</td>\n",
       "      <td>Super Area</td>\n",
       "      <td>Dumdum Park</td>\n",
       "      <td>Koltaka</td>\n",
       "      <td>Semi-Furnished</td>\n",
       "      <td>Bachelors</td>\n",
       "      <td>1</td>\n",
       "      <td>Contact Owner</td>\n",
       "    </tr>\n",
       "  </tbody>\n",
       "</table>\n",
       "</div>"
      ],
      "text/plain": [
       "   BHK   Rent  Size  Floor   Area Type Area Locality     City  \\\n",
       "0    2  15000   750      1  Super Area   Dumdum Park  Koltaka   \n",
       "\n",
       "  Furnishing Status Tenant Preferred  Bathroom Point of Contact  \n",
       "0    Semi-Furnished        Bachelors         1    Contact Owner  "
      ]
     },
     "execution_count": 4,
     "metadata": {},
     "output_type": "execute_result"
    }
   ],
   "source": [
    "# Data dibuat dengan random  dan dijadikan dataframe.\n",
    "\n",
    "test = [{'BHK' : 2,\n",
    "        'Rent': 15000,\n",
    "        'Size' : 750, \n",
    "        'Floor' : 1, \n",
    "        'Area Type' : 'Super Area', \n",
    "        'Area Locality' : 'Dumdum Park', \n",
    "        'City' : 'Koltaka',\n",
    "        'Furnishing Status' : 'Semi-Furnished', \n",
    "        'Tenant Preferred' : 'Bachelors', \n",
    "        'Bathroom' : 1,\n",
    "        'Point of Contact' : 'Contact Owner'\n",
    "}]\n",
    "\n",
    "test_inference = pd.DataFrame(test)\n",
    "\n",
    "# Tampilkan DataFrame\n",
    "test_inference"
   ]
  },
  {
   "cell_type": "code",
   "execution_count": 5,
   "metadata": {},
   "outputs": [
    {
     "name": "stdout",
     "output_type": "stream",
     "text": [
      "Predictions Harga Sewa: [11571.42857143]\n"
     ]
    }
   ],
   "source": [
    "# Transform the new data using the pipeline\n",
    "predictions = model_knn_inf.predict(test_inference)\n",
    "\n",
    "# Print the predictions\n",
    "print(\"Predictions Harga Sewa:\", predictions)\n"
   ]
  },
  {
   "cell_type": "markdown",
   "metadata": {},
   "source": [
    "**Insight** : Hasil prediksi menunjukkan bahwa harga sewa yang diprediksi oleh model KNN adalah sebesar 11571.42857143. Dengan demikian, insight yang dapat diambil dari hasil ini adalah prediksi harga sewa untuk properti yang diberikan oleh model KNN."
   ]
  }
 ],
 "metadata": {
  "kernelspec": {
   "display_name": "Hacktiv8",
   "language": "python",
   "name": "python3"
  },
  "language_info": {
   "codemirror_mode": {
    "name": "ipython",
    "version": 3
   },
   "file_extension": ".py",
   "mimetype": "text/x-python",
   "name": "python",
   "nbconvert_exporter": "python",
   "pygments_lexer": "ipython3",
   "version": "3.11.7"
  }
 },
 "nbformat": 4,
 "nbformat_minor": 2
}
